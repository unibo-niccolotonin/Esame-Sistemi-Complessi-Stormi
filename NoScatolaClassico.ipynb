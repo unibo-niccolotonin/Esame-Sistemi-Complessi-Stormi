{
 "cells": [
  {
   "cell_type": "code",
   "execution_count": 1,
   "metadata": {},
   "outputs": [],
   "source": [
    "import numpy as np\n",
    "import random as rd\n",
    "import math as mp\n",
    "import matplotlib.pyplot as plt\n",
    "import matplotlib as mpl"
   ]
  },
  {
   "cell_type": "code",
   "execution_count": null,
   "metadata": {},
   "outputs": [],
   "source": [
    "steps =  100\n",
    "birds =  100\n",
    "H     =    1\n",
    "beta  =    0.5\n",
    "ndim  =    3\n",
    "\n",
    "init_vel_max = 18\n",
    "init_vel_min = 10\n",
    "init_radius = 50"
   ]
  },
  {
   "cell_type": "code",
   "execution_count": 86,
   "metadata": {},
   "outputs": [],
   "source": [
    "pos=np.zeros((birds,ndim))\n",
    "vel=np.zeros((birds,ndim))"
   ]
  },
  {
   "cell_type": "code",
   "execution_count": 87,
   "metadata": {},
   "outputs": [],
   "source": [
    "rd.seed()\n",
    "\n",
    "for i in range (birds):\n",
    "    theta_x = rd.random() * mp.pi\n",
    "    phi_x = rd.random() * 2 * pi\n",
    "    theta_v = rd.random() * mp.pi\n",
    "    phi_v = rd.random() * 2 * pi\n",
    "    r = rd.random() * init_radius\n",
    "    v = rd.random() * (init_vel_max - init_vel_min)\n",
    "    \n",
    "    pos[i][0]= r * mp.cos(phi_x) * mp.sin(theta_x)\n",
    "    pos[i][1]= r * mp.sin(phi_x) * mp.sin(theta_x)\n",
    "    pos[i][2]= r * mp.cos(theta_x)\n",
    "    vel[i][0]= v * mp.cos(phi_v) * mp.sin(theta_v)\n",
    "    vel[i][1]= v * mp.sin(phi_v) * mp.sin(theta_v)\n",
    "    vel[i][2]= v * mp.cos(theta_v)"
   ]
  },
  {
   "cell_type": "code",
   "execution_count": 88,
   "metadata": {},
   "outputs": [],
   "source": [
    "#Funzione cutoff per S0 e S1\n",
    "def cutoff(x,d,e):\n",
    "    if x <= d:\n",
    "        return 1\n",
    "    elif x < (d + e):\n",
    "        return 0.5+0.5*np.tan((1/(x-d))+(1/(x-(d+e))))\n",
    "    else:\n",
    "        return 0"
   ]
  },
  {
   "cell_type": "code",
   "execution_count": 89,
   "metadata": {},
   "outputs": [],
   "source": [
    "def Aij(xi,xj):\n",
    "    return 1 / (pow(1+pow(np.linalg.norm(xi-xj),2),beta))"
   ]
  },
  {
   "cell_type": "code",
   "execution_count": 90,
   "metadata": {},
   "outputs": [],
   "source": [
    "#Calcolo w per la velocità come da articolo\n",
    "def w(x,y,v):\n",
    "    w1=Y1/pow(1+pow(np.linalg.norm(x-y),2),B1)\n",
    "    w2=cutoff(np.linalg.norm(v),D1,E1)\n",
    "    w3=(1-w2)\n",
    "    w4=(np.dot((y-x),v))/((np.linalg.norm(y-x)*np.linalg.norm(v))) \n",
    "    w5=(1-cutoff(w4,np.cos(S2),np.cos(S1) - np.cos(S2))) #correzione messo coseno al posto dell'angolo\n",
    "    return w1*(w2+w3*w5)"
   ]
  },
  {
   "cell_type": "code",
   "execution_count": 91,
   "metadata": {
    "scrolled": true
   },
   "outputs": [
    {
     "name": "stdout",
     "output_type": "stream",
     "text": [
      "0\n",
      "1\n",
      "2\n",
      "3\n",
      "4\n",
      "5\n",
      "6\n",
      "7\n",
      "8\n",
      "9\n",
      "10\n",
      "11\n",
      "12\n",
      "13\n",
      "14\n",
      "15\n",
      "16\n",
      "17\n",
      "18\n",
      "19\n",
      "20\n",
      "21\n",
      "22\n",
      "23\n",
      "24\n",
      "25\n",
      "26\n",
      "27\n",
      "28\n",
      "29\n",
      "30\n",
      "31\n",
      "32\n",
      "33\n",
      "34\n",
      "35\n",
      "36\n",
      "37\n",
      "38\n",
      "39\n",
      "40\n",
      "41\n",
      "42\n",
      "43\n",
      "44\n",
      "45\n",
      "46\n",
      "47\n",
      "48\n",
      "49\n",
      "50\n",
      "51\n",
      "52\n",
      "53\n",
      "54\n",
      "55\n",
      "56\n",
      "57\n",
      "58\n",
      "59\n",
      "60\n",
      "61\n",
      "62\n",
      "63\n",
      "64\n",
      "65\n",
      "66\n",
      "67\n",
      "68\n",
      "69\n",
      "70\n",
      "71\n",
      "72\n",
      "73\n",
      "74\n",
      "75\n",
      "76\n",
      "77\n",
      "78\n",
      "79\n",
      "80\n",
      "81\n",
      "82\n",
      "83\n",
      "84\n",
      "85\n",
      "86\n",
      "87\n",
      "88\n",
      "89\n",
      "90\n",
      "91\n",
      "92\n",
      "93\n",
      "94\n",
      "95\n",
      "96\n",
      "97\n",
      "98\n",
      "99\n"
     ]
    }
   ],
   "source": [
    "f1 = open(f\"vel3D birds={birds} steps={steps} b={B1}.txt\", \"w\")\n",
    "f2 = open(f\"pos3D birds={birds} steps={steps} b={B1}.txt\", \"w\")\n",
    "f1.close()\n",
    "f2.close()\n",
    "\n",
    "for k in range (steps):\n",
    "    \n",
    "        N=1/(birds)\n",
    "        N2=P1/(birds)\n",
    "        N3=1/(birds)\n",
    "        \n",
    "        for i in range (birds):\n",
    "            somma=0\n",
    "            somma2=0\n",
    "            somma3=0\n",
    "            #A attrazione\n",
    "            for j in range (birds):\n",
    "                if i != j:\n",
    "                    t1=(1-cutoff(np.linalg.norm(pos[i]-pos[j]),D0,E0))\n",
    "                    t3=w(pos[i],pos[j],vel[i])\n",
    "                    t4=(vel[j]-vel[i])\n",
    "                    t = t1*t3*t4\n",
    "                    somma=somma+t\n",
    "            v1=N*somma\n",
    "            \n",
    "            #R repulsione\n",
    "            for j in range (birds):\n",
    "                if i != j:\n",
    "                    d1=cutoff(np.linalg.norm(pos[i]-pos[j]),D0,E0)\n",
    "                    d2=(pos[i]-pos[j])/(pow(1+pow(np.linalg.norm(pos[i]-pos[j]),2),B1))\n",
    "                    d=d1*d2\n",
    "                    somma2=somma2+d\n",
    "            v2=N2*somma2 \n",
    "        \n",
    "            #B effetto bordo\n",
    "            K=np.array([0,0,-1])\n",
    "            for j in range (birds):\n",
    "                if i != j:\n",
    "                    d3=1/(1+pow(np.linalg.norm(pos[i]-pos[j]),2))\n",
    "                    somma3=somma3+d3\n",
    "            pv3=N3*somma3\n",
    "            v3=C*cutoff(pv3,D3,E3)*np.cross(vel[i],K)\n",
    "            if ndim==2:\n",
    "                v3=np.delete(v3,2)\n",
    "                \n",
    "            #Attrito    \n",
    "            v4 = max((alpha-beta*pow(np.linalg.norm(vel[i]),2)) * np.linalg.norm(vel[i]), -np.linalg.norm(vel[i])/friction_step) * vel[i] / np.linalg.norm(vel[i])\n",
    "            \n",
    "            vel[i]+= normalize(v1 + v2 + v3 + v4)*timestep\n",
    "            pos[i]+= vel[i]*timestep\n",
    "            \n",
    "            vel3D = open(f\"vel3D birds={birds} steps={steps} b={B1}.txt\", \"a+\")\n",
    "            pos3D = open(f\"pos3D birds={birds} steps={steps} b={B1}.txt\", \"a+\")\n",
    "            vel3D.write(str(vel[i][0]) + \" \" + str(vel[i][1]) + \" \" + str(vel[i][2]) + \"\\n\")\n",
    "            pos3D.write(str(pos[i][0]) + \" \" + str(pos[i][1]) + \" \" + str(pos[i][2]) + \"\\n\")\n",
    "            vel3D.close()\n",
    "            pos3D.close()\n",
    "\n",
    "        print(k)"
   ]
  },
  {
   "cell_type": "code",
   "execution_count": 153,
   "metadata": {},
   "outputs": [
    {
     "ename": "TypeError",
     "evalue": "'_io.TextIOWrapper' object is not subscriptable",
     "output_type": "error",
     "traceback": [
      "\u001b[0;31m---------------------------------------------------------------------------\u001b[0m",
      "\u001b[0;31mTypeError\u001b[0m                                 Traceback (most recent call last)",
      "Input \u001b[0;32mIn [153]\u001b[0m, in \u001b[0;36m<module>\u001b[0;34m\u001b[0m\n\u001b[1;32m      1\u001b[0m \u001b[38;5;66;03m#Calcolo u = velocità singolo uccello - velocità media ad un certo step\u001b[39;00m\n\u001b[0;32m----> 2\u001b[0m velstep\u001b[38;5;241m=\u001b[39m\u001b[43mvel3D\u001b[49m\u001b[43m[\u001b[49m\u001b[43msteps\u001b[49m\u001b[38;5;241;43m-\u001b[39;49m\u001b[38;5;241;43m1\u001b[39;49m\u001b[43m,\u001b[49m\u001b[43m:\u001b[49m\u001b[43m,\u001b[49m\u001b[43m:\u001b[49m\u001b[43m]\u001b[49m\n\u001b[1;32m      3\u001b[0m U\u001b[38;5;241m=\u001b[39mnp\u001b[38;5;241m.\u001b[39mzeros((birds,ndim))\n\u001b[1;32m      4\u001b[0m VelMedia\u001b[38;5;241m=\u001b[39mnp\u001b[38;5;241m.\u001b[39mmean(velstep,axis\u001b[38;5;241m=\u001b[39m\u001b[38;5;241m0\u001b[39m)\n",
      "\u001b[0;31mTypeError\u001b[0m: '_io.TextIOWrapper' object is not subscriptable"
     ]
    }
   ],
   "source": [
    "#Calcolo u = velocità singolo uccello - velocità media ad un certo step\n",
    "velstep=vel3D[steps-1,:,:]\n",
    "U=np.zeros((birds,ndim))\n",
    "VelMedia=np.mean(velstep,axis=0)\n",
    "for j in range (birds):\n",
    "    U[j] = velstep[j] - VelMedia\n",
    "        \n",
    "#controllo che u sia uguale a zero\n",
    "controll= np.round(np.sum(U,axis=0),2)\n",
    "print(controll)"
   ]
  },
  {
   "cell_type": "code",
   "execution_count": 67,
   "metadata": {},
   "outputs": [],
   "source": [
    "#Funzione delta correlazione\n",
    "def delta(sigma):\n",
    "    if sigma == 0:\n",
    "        return 1\n",
    "    else:\n",
    "        return 0\n",
    "    \n",
    "#Funzione correlazione C(r) per uno step\n",
    "def correlation(r):\n",
    "    velox=U\n",
    "    posix=pos3D[steps-1,:,:]\n",
    "    som=0\n",
    "    somDelta=0\n",
    "    for i in range (birds):\n",
    "        for j in range (birds):\n",
    "            if i != j:\n",
    "                modvi=np.linalg.norm(velox[i])\n",
    "                modvj=np.linalg.norm(velox[j])\n",
    "                si=velox[i]/modvi\n",
    "                sj=velox[j]/modvj\n",
    "                r1=np.linalg.norm(posix[i]-posix[j])\n",
    "                dist = np.round((r-r1), 0)\n",
    "                delt=delta(dist)\n",
    "                \n",
    "                \n",
    "                \n",
    "                somj=np.dot(si,sj)*delt\n",
    "                som = som + somj\n",
    "                somDelta = somDelta + delt\n",
    "    if somDelta == 0:\n",
    "        return 0\n",
    "    else:\n",
    "        return (som / somDelta)"
   ]
  },
  {
   "cell_type": "code",
   "execution_count": 68,
   "metadata": {},
   "outputs": [
    {
     "ename": "NameError",
     "evalue": "name 'U' is not defined",
     "output_type": "error",
     "traceback": [
      "\u001b[0;31m---------------------------------------------------------------------------\u001b[0m",
      "\u001b[0;31mNameError\u001b[0m                                 Traceback (most recent call last)",
      "Input \u001b[0;32mIn [68]\u001b[0m, in \u001b[0;36m<module>\u001b[0;34m\u001b[0m\n\u001b[1;32m      5\u001b[0m r \u001b[38;5;241m=\u001b[39m []\n\u001b[1;32m      6\u001b[0m \u001b[38;5;28;01mfor\u001b[39;00m i \u001b[38;5;129;01min\u001b[39;00m \u001b[38;5;28mrange\u001b[39m (r2\u001b[38;5;241m.\u001b[39msize):\n\u001b[0;32m----> 7\u001b[0m     result \u001b[38;5;241m=\u001b[39m np\u001b[38;5;241m.\u001b[39mround(\u001b[43mcorrelation\u001b[49m\u001b[43m(\u001b[49m\u001b[43mr2\u001b[49m\u001b[43m[\u001b[49m\u001b[43mi\u001b[49m\u001b[43m]\u001b[49m\u001b[43m)\u001b[49m,\u001b[38;5;241m2\u001b[39m)\n\u001b[1;32m      8\u001b[0m     \u001b[38;5;28;01mif\u001b[39;00m result \u001b[38;5;241m!=\u001b[39m \u001b[38;5;241m0\u001b[39m:\n\u001b[1;32m      9\u001b[0m         cor\u001b[38;5;241m.\u001b[39mappend(result)\n",
      "Input \u001b[0;32mIn [67]\u001b[0m, in \u001b[0;36mcorrelation\u001b[0;34m(r)\u001b[0m\n\u001b[1;32m      9\u001b[0m \u001b[38;5;28;01mdef\u001b[39;00m \u001b[38;5;21mcorrelation\u001b[39m(r):\n\u001b[0;32m---> 10\u001b[0m     velox\u001b[38;5;241m=\u001b[39m\u001b[43mU\u001b[49m\n\u001b[1;32m     11\u001b[0m     posix\u001b[38;5;241m=\u001b[39mpos3D[steps\u001b[38;5;241m-\u001b[39m\u001b[38;5;241m1\u001b[39m,:,:]\n\u001b[1;32m     12\u001b[0m     som\u001b[38;5;241m=\u001b[39m\u001b[38;5;241m0\u001b[39m\n",
      "\u001b[0;31mNameError\u001b[0m: name 'U' is not defined"
     ]
    }
   ],
   "source": [
    "#Calcolo valore correlazione per ogni r dell'array \n",
    "massimo = 35\n",
    "r2 = np.arange(0,massimo,1)\n",
    "cor = []\n",
    "r = []\n",
    "for i in range (r2.size):\n",
    "    result = np.round(correlation(r2[i]),2)\n",
    "    if result != 0:\n",
    "        cor.append(result)\n",
    "        r.append(r2[i])\n",
    "    print(i)\n",
    "cor=np.array(cor)\n",
    "r=np.array(r)\n",
    "\n",
    "plt.plot(r, cor, marker = \"o\", color = 'red')\n",
    "plt.title(\"Grafico correlazione\")\n",
    "plt.xlabel(\"R\") \n",
    "plt.ylabel(\"Correlation(R)\")\n",
    "plt.show()"
   ]
  },
  {
   "cell_type": "code",
   "execution_count": 69,
   "metadata": {},
   "outputs": [
    {
     "ename": "TypeError",
     "evalue": "'_io.TextIOWrapper' object is not subscriptable",
     "output_type": "error",
     "traceback": [
      "\u001b[0;31m---------------------------------------------------------------------------\u001b[0m",
      "\u001b[0;31mTypeError\u001b[0m                                 Traceback (most recent call last)",
      "Input \u001b[0;32mIn [69]\u001b[0m, in \u001b[0;36m<module>\u001b[0;34m\u001b[0m\n\u001b[1;32m      1\u001b[0m \u001b[38;5;66;03m#Rappresentazione volume ad un certo step t\u001b[39;00m\n\u001b[0;32m----> 2\u001b[0m pts\u001b[38;5;241m=\u001b[39m\u001b[43mpos3D\u001b[49m\u001b[43m[\u001b[49m\u001b[43msteps\u001b[49m\u001b[38;5;241;43m-\u001b[39;49m\u001b[38;5;241;43m1\u001b[39;49m\u001b[43m,\u001b[49m\u001b[43m:\u001b[49m\u001b[43m,\u001b[49m\u001b[43m:\u001b[49m\u001b[43m]\u001b[49m\n\u001b[1;32m      3\u001b[0m hull \u001b[38;5;241m=\u001b[39m ConvexHull(pts)\n\u001b[1;32m      5\u001b[0m fig \u001b[38;5;241m=\u001b[39m plt\u001b[38;5;241m.\u001b[39mfigure()\n",
      "\u001b[0;31mTypeError\u001b[0m: '_io.TextIOWrapper' object is not subscriptable"
     ]
    }
   ],
   "source": [
    "#Rappresentazione volume ad un certo step t\n",
    "pts=pos3D[steps-1,:,:]\n",
    "hull = ConvexHull(pts)\n",
    "\n",
    "fig = plt.figure()\n",
    "ax = fig.add_subplot(111, projection=\"3d\")\n",
    "\n",
    "# Plot defining corner points\n",
    "ax.plot(pts.T[0], pts.T[1], pts.T[2], \"ko\")\n",
    "\n",
    "# 12 = 2 * 6 faces are the simplices (2 simplices per square face)\n",
    "for s in hull.simplices:\n",
    "    s = np.append(s, s[0])  # Here we cycle back to the first coordinate\n",
    "    ax.plot(pts[s, 0], pts[s, 1], pts[s, 2], \"r-\")\n",
    "\n",
    "# Make axis label\n",
    "for i in [\"x\", \"y\", \"z\"]:\n",
    "    eval(\"ax.set_{:s}label('{:s}')\".format(i, i))\n",
    "\n",
    "plt.show()"
   ]
  },
  {
   "cell_type": "code",
   "execution_count": 70,
   "metadata": {
    "scrolled": true
   },
   "outputs": [
    {
     "ename": "TypeError",
     "evalue": "'_io.TextIOWrapper' object is not subscriptable",
     "output_type": "error",
     "traceback": [
      "\u001b[0;31m---------------------------------------------------------------------------\u001b[0m",
      "\u001b[0;31mTypeError\u001b[0m                                 Traceback (most recent call last)",
      "Input \u001b[0;32mIn [70]\u001b[0m, in \u001b[0;36m<module>\u001b[0;34m\u001b[0m\n\u001b[0;32m----> 1\u001b[0m \u001b[43mvel3D\u001b[49m\u001b[43m[\u001b[49m\u001b[43msteps\u001b[49m\u001b[38;5;241;43m-\u001b[39;49m\u001b[38;5;241;43m1\u001b[39;49m\u001b[43m]\u001b[49m\n",
      "\u001b[0;31mTypeError\u001b[0m: '_io.TextIOWrapper' object is not subscriptable"
     ]
    }
   ],
   "source": [
    "vel3D[steps-1]"
   ]
  },
  {
   "cell_type": "code",
   "execution_count": 154,
   "metadata": {},
   "outputs": [
    {
     "name": "stdout",
     "output_type": "stream",
     "text": [
      "0.9998929777417366\n"
     ]
    }
   ],
   "source": [
    "summation=[0] * 3\n",
    "\n",
    "for j in range (birds):\n",
    "    summation+=vel[j] / np.linalg.norm(vel[j])\n",
    "\n",
    "pol = 1/birds * np.linalg.norm(summation)\n",
    "print(pol)"
   ]
  },
  {
   "cell_type": "code",
   "execution_count": null,
   "metadata": {},
   "outputs": [],
   "source": []
  },
  {
   "cell_type": "code",
   "execution_count": null,
   "metadata": {},
   "outputs": [],
   "source": []
  }
 ],
 "metadata": {
  "kernelspec": {
   "display_name": "Python 3 (ipykernel)",
   "language": "python",
   "name": "python3"
  },
  "language_info": {
   "codemirror_mode": {
    "name": "ipython",
    "version": 3
   },
   "file_extension": ".py",
   "mimetype": "text/x-python",
   "name": "python",
   "nbconvert_exporter": "python",
   "pygments_lexer": "ipython3",
   "version": "3.8.10"
  }
 },
 "nbformat": 4,
 "nbformat_minor": 4
}
