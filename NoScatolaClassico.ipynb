{
 "cells": [
  {
   "cell_type": "code",
   "execution_count": 168,
   "metadata": {},
   "outputs": [],
   "source": [
    "import numpy as np\n",
    "import scipy.integrate as sp\n",
    "import random as rd\n",
    "import math as mp\n",
    "import matplotlib.pyplot as plt\n",
    "import matplotlib as mpl"
   ]
  },
  {
   "cell_type": "code",
   "execution_count": 169,
   "metadata": {},
   "outputs": [],
   "source": [
    "steps =  10\n",
    "birds =  50\n",
    "H     =    1\n",
    "beta  =    3\n",
    "ndim  =    3\n",
    "\n",
    "init_vel_max = 18\n",
    "init_vel_min = 10\n",
    "init_radius = 50\n",
    "\n",
    "x_upper_bound = birds * ndim\n",
    "v_lower_bound = x_upper_bound\n",
    "v_upper_bound = 2 * birds * ndim"
   ]
  },
  {
   "cell_type": "code",
   "execution_count": 170,
   "metadata": {},
   "outputs": [],
   "source": [
    "time_values = np.zeros((steps))\n",
    "for i in range (steps):\n",
    "    time_values[i] = i"
   ]
  },
  {
   "cell_type": "code",
   "execution_count": 171,
   "metadata": {},
   "outputs": [],
   "source": [
    "init_phase_space = np.zeros((birds * 2 * ndim))"
   ]
  },
  {
   "cell_type": "code",
   "execution_count": 172,
   "metadata": {},
   "outputs": [],
   "source": [
    "def get_pos(bird_set, i, k):\n",
    "    return bird_set[i*ndim + k]\n",
    "def get_vel(bird_set, i, k):\n",
    "    return bird_set[v_lower_bound + i*ndim + k]"
   ]
  },
  {
   "cell_type": "code",
   "execution_count": 173,
   "metadata": {},
   "outputs": [],
   "source": [
    "def pos_diff_norm(bird_set, i, j):\n",
    "    somma=0\n",
    "    for k in range(ndim):\n",
    "        somma += (get_pos(bird_set, i, k) - get_pos(bird_set, j, k))**2\n",
    "    somma = mp.sqrt(somma)\n",
    "    return somma"
   ]
  },
  {
   "cell_type": "code",
   "execution_count": 174,
   "metadata": {},
   "outputs": [],
   "source": [
    "def vel_diff_norm(bird_set, i, j):\n",
    "    somma=0\n",
    "    for k in range(ndim):\n",
    "        somma += (get_vel(bird_set, i, k) - get_vel(bird_set, j, k))**2\n",
    "    somma = mp.sqrt(somma)\n",
    "    return somma"
   ]
  },
  {
   "cell_type": "code",
   "execution_count": 175,
   "metadata": {},
   "outputs": [],
   "source": [
    "def Aij(bird_set, i, j):\n",
    "    return H / (pow(1 + pow(vel_diff_norm(bird_set, i, j), 2), beta))"
   ]
  },
  {
   "cell_type": "code",
   "execution_count": 176,
   "metadata": {},
   "outputs": [],
   "source": [
    "def rhs_equation(t, phase_space):\n",
    "    vett = np.zeros(birds * 2 * ndim)    \n",
    "    \n",
    "    #equazioni differenziali delle posizioni\n",
    "    for i in range (birds):\n",
    "        x_i = i*ndim\n",
    "        for k in range(ndim):\n",
    "            vett[x_i + k] = get_vel(phase_space, i, k)\n",
    "    \n",
    "    #equazioni differenziali delle velocità\n",
    "    for i in range (birds):\n",
    "        v_i = v_lower_bound + ndim * i\n",
    "        \n",
    "        somma = np.zeros((ndim))\n",
    "        #somma per ogni componente di i\n",
    "        \n",
    "        for k in range (ndim):\n",
    "            for j in range (birds):\n",
    "                v_jk = get_vel(phase_space, j, k)\n",
    "                v_ik = get_vel(phase_space, i, k)\n",
    "                somma[k] += Aij(phase_space, i, j) * (v_jk - v_ik)\n",
    "            vett[v_i + k] = somma[k]\n",
    "    return vett"
   ]
  },
  {
   "cell_type": "code",
   "execution_count": 177,
   "metadata": {
    "scrolled": false
   },
   "outputs": [
    {
     "data": {
      "text/plain": [
       "\"\\nps = init_phase_space.reshape(2, birds, ndim)[1, :, :]\\n\\nax = plt.axes(projection ='3d')\\nax.scatter(ps[:, 0], ps[:,1], ps[:,2])\\nplt.show()\\n\\nprint (init_phase_space.reshape(2, birds, ndim))\\n\""
      ]
     },
     "execution_count": 177,
     "metadata": {},
     "output_type": "execute_result"
    }
   ],
   "source": [
    "rd.seed()\n",
    "\n",
    "#inizializzo le posizioni\n",
    "for i in range (birds):\n",
    "    x_i = ndim * i\n",
    "    theta_x = rd.random() * mp.pi\n",
    "    phi_x = rd.random() * 2 * mp.pi\n",
    "    r = rd.random() * init_radius\n",
    "    \n",
    "    init_phase_space[x_i + 0]= r * mp.cos(phi_x) * mp.sin(theta_x)\n",
    "    init_phase_space[x_i + 1]= r * mp.sin(phi_x) * mp.sin(theta_x)\n",
    "    init_phase_space[x_i + 2]= r * mp.cos(theta_x)\n",
    "\n",
    "#inizializzo le velocità\n",
    "for i in range (birds):\n",
    "    v_i = v_lower_bound + ndim * i\n",
    "    theta_v = rd.random() * mp.pi\n",
    "    phi_v = rd.random() * 2 * mp.pi\n",
    "    v = rd.random() * (init_vel_max - init_vel_min) + init_vel_min\n",
    "    \n",
    "    init_phase_space[v_i + 0]= v * mp.cos(phi_v) * mp.sin(theta_v)\n",
    "    init_phase_space[v_i + 1]= v * mp.sin(phi_v) * mp.sin(theta_v)\n",
    "    init_phase_space[v_i + 2]= v * mp.cos(theta_v)\n",
    "\n",
    "#print (init_phase_space.reshape(2, birds, ndim))\n",
    "\n",
    "    \n",
    "\"\"\"\n",
    "ps = init_phase_space.reshape(2, birds, ndim)[1, :, :]\n",
    "\n",
    "ax = plt.axes(projection ='3d')\n",
    "ax.scatter(ps[:, 0], ps[:,1], ps[:,2])\n",
    "plt.show()\n",
    "\n",
    "print (init_phase_space.reshape(2, birds, ndim))\n",
    "\"\"\""
   ]
  },
  {
   "cell_type": "code",
   "execution_count": 178,
   "metadata": {
    "scrolled": true
   },
   "outputs": [
    {
     "name": "stdout",
     "output_type": "stream",
     "text": [
      "done\n"
     ]
    }
   ],
   "source": [
    "solution = sp.solve_ivp(fun=rhs_equation,y0 = init_phase_space, t_span=(0,steps))\n",
    "print(\"done\")"
   ]
  },
  {
   "cell_type": "code",
   "execution_count": 179,
   "metadata": {
    "scrolled": false
   },
   "outputs": [
    {
     "data": {
      "image/png": "[encoded data removed]",
      "text/plain": [
       "<Figure size 432x288 with 1 Axes>"
      ]
     },
     "metadata": {
      "needs_background": "light"
     },
     "output_type": "display_data"
    }
   ],
   "source": [
    "pos = solution.y[ : x_upper_bound]\n",
    "vel = solution.y[v_lower_bound : ]\n",
    "times = solution.t\n",
    "\n",
    "#Converto in array 3D\n",
    "vel = vel.reshape((birds, ndim, len(times)))\n",
    "pos = pos.reshape((birds, ndim, len(times)))\n",
    "\n",
    "vel = np.round(vel, 5)\n",
    "pos = np.round(pos, 5)\n",
    "times = np.round(times, 5)\n",
    "\n",
    "file = open(f\" classico birds={birds} times={times.size} b={beta}.txt\", \"w+\")\n",
    "file.write(\"Num.\\tVelx\\tVely\\tVelz\\tPosx\\tPosy\\tPosz\\tTimes\\tStep\\n\")\n",
    "\n",
    "ucc = 0\n",
    "t = 0\n",
    "for i in range(times.size * birds):\n",
    "    file.write(str(ucc) + \"\\t\" + str(vel[ucc][0][t]) + \"\\t\" + str(vel[ucc][1][t]) + \"\\t\" + str(vel[ucc][2][t]) + \n",
    "               \"\\t\" + str(pos[ucc][0][t]) + \"\\t\" + str(pos[ucc][1][t]) + \"\\t\" + str(pos[ucc][2][t]) + \n",
    "               \"\\t\" + str(times[t]) + \"\\t\" + str(t) + \"\\n\")\n",
    "    ucc += 1\n",
    "    if ucc == birds:\n",
    "        ucc = 0\n",
    "        t += 1     \n",
    "\n",
    "norm_vel = np.zeros((birds, len(times)))\n",
    "for i in range(birds):\n",
    "    for t in range(len(times)):\n",
    "        norm_vel[i, t] = np.linalg.norm(vel[i, :, t])\n",
    "   \n",
    "for i in range(birds):\n",
    "    plt.plot(times, norm_vel[i,:])\n",
    "\n",
    "file.close()"
   ]
  },
  {
   "cell_type": "code",
   "execution_count": null,
   "metadata": {},
   "outputs": [],
   "source": []
  }
 ],
 "metadata": {
  "kernelspec": {
   "display_name": "Python 3 (ipykernel)",
   "language": "python",
   "name": "python3"
  },
  "language_info": {
   "codemirror_mode": {
    "name": "ipython",
    "version": 3
   },
   "file_extension": ".py",
   "mimetype": "text/x-python",
   "name": "python",
   "nbconvert_exporter": "python",
   "pygments_lexer": "ipython3",
   "version": "3.8.10"
  }
 },
 "nbformat": 4,
 "nbformat_minor": 4
}
