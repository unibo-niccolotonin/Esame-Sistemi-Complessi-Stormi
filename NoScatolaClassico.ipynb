{
 "cells": [
  {
   "cell_type": "code",
   "execution_count": 147,
   "metadata": {},
   "outputs": [],
   "source": [
    "import numpy as np\n",
    "import scipy.integrate as sp\n",
    "import random as rd\n",
    "import math as mp\n",
    "import matplotlib.pyplot as plt\n",
    "import matplotlib as mpl"
   ]
  },
  {
   "cell_type": "code",
   "execution_count": 148,
   "metadata": {},
   "outputs": [],
   "source": [
    "steps =  5\n",
    "birds =  50\n",
    "H     =    1\n",
    "beta  =    0.3\n",
    "ndim  =    3\n",
    "\n",
    "init_vel_max = 18\n",
    "init_vel_min = 10\n",
    "init_radius = 50\n",
    "\n",
    "x_upper_bound = birds * ndim\n",
    "v_lower_bound = x_upper_bound\n",
    "v_upper_bound = 2 * birds * ndim"
   ]
  },
  {
   "cell_type": "code",
   "execution_count": 149,
   "metadata": {},
   "outputs": [],
   "source": [
    "time_values = np.zeros((steps))\n",
    "for i in range (steps):\n",
    "    time_values[i] = i"
   ]
  },
  {
   "cell_type": "code",
   "execution_count": 150,
   "metadata": {},
   "outputs": [],
   "source": [
    "init_phase_space = np.zeros((birds * 2 * ndim))"
   ]
  },
  {
   "cell_type": "code",
   "execution_count": 151,
   "metadata": {},
   "outputs": [],
   "source": [
    "def get_pos(bird_set, i, k):\n",
    "    return bird_set[i*ndim + k]\n",
    "def get_vel(bird_set, i, k):\n",
    "    return bird_set[v_lower_bound + i*ndim + k]"
   ]
  },
  {
   "cell_type": "code",
   "execution_count": 152,
   "metadata": {},
   "outputs": [],
   "source": [
    "def pos_diff_norm(bird_set, i, j):\n",
    "    sum=0\n",
    "    for k in range(ndim):\n",
    "        sum += (get_pos(bird_set, i, k) - get_pos(bird_set, j, k))**2\n",
    "    return sum"
   ]
  },
  {
   "cell_type": "code",
   "execution_count": 153,
   "metadata": {},
   "outputs": [],
   "source": [
    "def vel_diff_norm(bird_set, i, j):\n",
    "    sum=0\n",
    "    for k in range(ndim):\n",
    "        sum += (get_vel(bird_set, i, k) - get_vel(bird_set, j, k))**2\n",
    "    return sum"
   ]
  },
  {
   "cell_type": "code",
   "execution_count": 154,
   "metadata": {},
   "outputs": [],
   "source": [
    "def Aij(bird_set, i, j):\n",
    "    return H / (pow(1 + pow(vel_diff_norm(bird_set, i, j), 2), beta))"
   ]
  },
  {
   "cell_type": "code",
   "execution_count": 155,
   "metadata": {},
   "outputs": [],
   "source": [
    "\"\"\"\n",
    "def rhs_equation(t, array):\n",
    "    vett = np.zeros((birds * 2, ndim))\n",
    "    for i in range(birds):\n",
    "        vett[i] = array[i + birds]\n",
    "    \n",
    "    j = i\n",
    "    somma = 0\n",
    "    while i < (birds * 2):\n",
    "        while j < (birds * 2):\n",
    "            if i != j:\n",
    "                somma += Aij(array[i - birds], array[j - birds]) * (array[j] - array[i])\n",
    "            j += 1\n",
    "        vett[i] = somma\n",
    "        i += 1\n",
    "    return vett\n",
    "\"\"\"\n",
    "\n",
    "def rhs_equation(t, phase_space):\n",
    "    vett = np.zeros(birds * 2 * ndim)    \n",
    "    \n",
    "    #equazioni differenziali delle posizioni\n",
    "    for i in range (birds):\n",
    "        x_i = i*ndim\n",
    "        for k in range(ndim):\n",
    "            vett[x_i + k] = phase_space[i + k]\n",
    "    \n",
    "    #equazioni differenziali delle velocità\n",
    "    for i in range (birds):\n",
    "        v_i = v_lower_bound + ndim * i\n",
    "        \n",
    "        sum = np.zeros((ndim))\n",
    "        #somma per ogni componente di i\n",
    "        \n",
    "        for k in range (ndim):\n",
    "            for j in range (birds):\n",
    "                v_jk = get_vel(phase_space, j, k)\n",
    "                v_ik = get_vel(phase_space, i, k)\n",
    "                sum[k] += Aij(phase_space, i, j) * (v_jk - v_ik)\n",
    "            vett[v_i + k] = sum[k]\n",
    "    return vett"
   ]
  },
  {
   "cell_type": "code",
   "execution_count": 156,
   "metadata": {
    "scrolled": false
   },
   "outputs": [
    {
     "data": {
      "text/plain": [
       "\"\\nps = init_phase_space.reshape(2, birds, ndim)[1, :, :]\\n\\nax = plt.axes(projection ='3d')\\nax.scatter(ps[:, 0], ps[:,1], ps[:,2])\\nplt.show()\\n\\nprint (init_phase_space.reshape(2, birds, ndim))\\n\""
      ]
     },
     "execution_count": 156,
     "metadata": {},
     "output_type": "execute_result"
    }
   ],
   "source": [
    "rd.seed()\n",
    "\n",
    "#inizializzo le posizioni\n",
    "for i in range (birds):\n",
    "    x_i = ndim * i\n",
    "    theta_x = rd.random() * mp.pi\n",
    "    phi_x = rd.random() * 2 * mp.pi\n",
    "    r = rd.random() * init_radius\n",
    "    \n",
    "    init_phase_space[x_i + 0]= r * mp.cos(phi_x) * mp.sin(theta_x)\n",
    "    init_phase_space[x_i + 1]= r * mp.sin(phi_x) * mp.sin(theta_x)\n",
    "    init_phase_space[x_i + 2]= r * mp.cos(theta_x)\n",
    "\n",
    "#inizializzo le velocità\n",
    "for i in range (birds):\n",
    "    v_i = v_lower_bound + ndim * i\n",
    "    theta_v = rd.random() * mp.pi\n",
    "    phi_v = rd.random() * 2 * mp.pi\n",
    "    v = rd.random() * (init_vel_max - init_vel_min) + init_vel_min\n",
    "    \n",
    "    init_phase_space[v_i + 0]= v * mp.cos(phi_v) * mp.sin(theta_v)\n",
    "    init_phase_space[v_i + 1]= v * mp.sin(phi_v) * mp.sin(theta_v)\n",
    "    init_phase_space[v_i + 2]= v * mp.cos(theta_v)\n",
    "\n",
    "#print (init_phase_space.reshape(2, birds, ndim))\n",
    "\n",
    "    \n",
    "\"\"\"\n",
    "ps = init_phase_space.reshape(2, birds, ndim)[1, :, :]\n",
    "\n",
    "ax = plt.axes(projection ='3d')\n",
    "ax.scatter(ps[:, 0], ps[:,1], ps[:,2])\n",
    "plt.show()\n",
    "\n",
    "print (init_phase_space.reshape(2, birds, ndim))\n",
    "\"\"\""
   ]
  },
  {
   "cell_type": "code",
   "execution_count": 157,
   "metadata": {
    "scrolled": true
   },
   "outputs": [],
   "source": [
    "#f1 = open(f\"vel3D birds={birds} steps={steps} b={beta}.txt\", \"w\")\n",
    "#f2 = open(f\"pos3D birds={birds} steps={steps} b={beta}.txt\", \"w\")\n",
    "#f1.close()\n",
    "#f2.close()\n",
    "\n",
    "\n",
    "\n",
    "solution = sp.solve_ivp(fun=rhs_equation,y0 = init_phase_space, t_span=(0,steps))\n"
   ]
  },
  {
   "cell_type": "code",
   "execution_count": 160,
   "metadata": {
    "scrolled": false
   },
   "outputs": [
    {
     "name": "stdout",
     "output_type": "stream",
     "text": [
      "(300, 77)\n",
      "[-7.43381376e-02 -7.82661652e-01 -6.92751819e+00 -8.95446771e-01\n",
      " -5.46392927e+00  1.13869971e+00  4.12135121e+00  3.77503605e+00\n",
      " -4.61863188e+00  1.68099549e-03 -7.24782621e-01 -6.90996502e+00\n",
      "  7.30140525e-01  3.60005870e-01 -6.95975101e+00 -3.65880239e+00\n",
      " -3.93302119e+00 -4.83651265e+00  2.10566800e+00 -2.75847532e+00\n",
      " -5.74621931e+00 -3.58395388e+00 -4.46118574e+00  2.61162716e+00\n",
      " -9.05062083e-02 -5.39838742e+00 -5.00351173e-02 -2.34621228e+00\n",
      "  8.03323175e-01 -4.85890602e+00  1.02414124e+00 -2.61133752e+00\n",
      " -6.82405947e+00  1.50080985e+00 -2.76752518e+00 -6.99725360e+00\n",
      "  1.64566911e-01 -2.78986306e-01 -6.85076974e+00  2.43766431e+00\n",
      " -4.15245850e+00 -4.17273570e+00 -3.50701385e+00  4.73991884e+00\n",
      "  4.26223394e-01 -6.11196019e-02 -1.45788864e-01 -7.02255059e+00\n",
      "  1.75507510e-01 -4.73780841e+00 -4.16641420e+00 -8.07410552e-02\n",
      " -5.14304491e-01 -7.11109246e+00 -3.25557537e-01 -2.54325004e+00\n",
      " -5.83038566e+00  1.83672537e+00  3.29748394e+00 -5.41072009e+00\n",
      "  7.61251308e-02 -1.15194836e+00 -6.68952818e+00 -1.64642841e-01\n",
      " -3.99218584e+00 -4.85663440e+00  9.76671395e-01  1.83890516e+00\n",
      " -4.41413675e+00 -8.57757421e-01 -4.36723037e+00  5.22807986e+00\n",
      "  4.25844829e+00 -2.42240554e+00  4.37392834e+00 -1.55730444e-02\n",
      " -1.17479893e+00  6.65940604e+00  1.84699634e+00  2.41014233e+00\n",
      " -3.88905293e+00  3.93816461e-01 -5.68178530e+00 -4.93060912e-01\n",
      " -1.57390327e+00  3.89590242e-01  5.65604571e+00 -2.20295244e+00\n",
      "  1.39376704e+00 -7.02152068e+00 -9.97626248e-02  2.54956957e-01\n",
      " -6.87460386e+00 -6.99216508e-01 -4.33666168e+00 -1.73659042e+00\n",
      " -2.31391704e-01 -1.13503387e+00  6.67384033e+00  4.38217474e+00\n",
      " -3.71887202e+00 -2.55458992e+00  2.51186848e+00 -9.00449469e-01\n",
      "  2.30505616e+00  3.88400418e+00 -1.39955930e+00 -3.94382853e-01\n",
      " -7.70449812e-02 -6.45565566e-01 -6.99877393e+00  4.55442533e+00\n",
      " -2.30132271e+00 -2.67251601e+00 -3.71183617e+00 -1.01413496e+00\n",
      " -3.24561598e+00 -9.46792522e-02 -1.26153467e+00  2.98413121e+00\n",
      " -7.91276370e-01 -1.51483464e+00 -7.24633922e+00  1.17559420e+00\n",
      " -3.26695375e+00 -4.78170674e+00  1.04684977e-01 -5.82608018e-01\n",
      "  5.94291602e+00  2.13597655e+00  7.28427878e-01 -4.44394703e+00\n",
      "  9.67376920e-01 -2.89754289e+00 -5.10952364e+00 -2.51199974e-02\n",
      " -6.53979594e-01 -6.99538315e+00 -6.74241369e-02 -3.39832111e-01\n",
      " -6.99119459e+00 -6.58266571e-01 -5.59423146e+00  1.53130969e-01\n",
      " -2.95214949e+00 -2.12788613e+00 -4.26447245e+00 -3.84611513e-01\n",
      " -6.05748374e-01 -7.31448799e+00]\n",
      "[[-7.43381376e-02 -7.82661652e-01 -6.92751819e+00]\n",
      " [-8.95446771e-01 -5.46392927e+00  1.13869971e+00]\n",
      " [ 4.12135121e+00  3.77503605e+00 -4.61863188e+00]\n",
      " [ 1.68099549e-03 -7.24782621e-01 -6.90996502e+00]\n",
      " [ 7.30140525e-01  3.60005870e-01 -6.95975101e+00]\n",
      " [-3.65880239e+00 -3.93302119e+00 -4.83651265e+00]\n",
      " [ 2.10566800e+00 -2.75847532e+00 -5.74621931e+00]\n",
      " [-3.58395388e+00 -4.46118574e+00  2.61162716e+00]\n",
      " [-9.05062083e-02 -5.39838742e+00 -5.00351173e-02]\n",
      " [-2.34621228e+00  8.03323175e-01 -4.85890602e+00]\n",
      " [ 1.02414124e+00 -2.61133752e+00 -6.82405947e+00]\n",
      " [ 1.50080985e+00 -2.76752518e+00 -6.99725360e+00]\n",
      " [ 1.64566911e-01 -2.78986306e-01 -6.85076974e+00]\n",
      " [ 2.43766431e+00 -4.15245850e+00 -4.17273570e+00]\n",
      " [-3.50701385e+00  4.73991884e+00  4.26223394e-01]\n",
      " [-6.11196019e-02 -1.45788864e-01 -7.02255059e+00]\n",
      " [ 1.75507510e-01 -4.73780841e+00 -4.16641420e+00]\n",
      " [-8.07410552e-02 -5.14304491e-01 -7.11109246e+00]\n",
      " [-3.25557537e-01 -2.54325004e+00 -5.83038566e+00]\n",
      " [ 1.83672537e+00  3.29748394e+00 -5.41072009e+00]\n",
      " [ 7.61251308e-02 -1.15194836e+00 -6.68952818e+00]\n",
      " [-1.64642841e-01 -3.99218584e+00 -4.85663440e+00]\n",
      " [ 9.76671395e-01  1.83890516e+00 -4.41413675e+00]\n",
      " [-8.57757421e-01 -4.36723037e+00  5.22807986e+00]\n",
      " [ 4.25844829e+00 -2.42240554e+00  4.37392834e+00]\n",
      " [-1.55730444e-02 -1.17479893e+00  6.65940604e+00]\n",
      " [ 1.84699634e+00  2.41014233e+00 -3.88905293e+00]\n",
      " [ 3.93816461e-01 -5.68178530e+00 -4.93060912e-01]\n",
      " [-1.57390327e+00  3.89590242e-01  5.65604571e+00]\n",
      " [-2.20295244e+00  1.39376704e+00 -7.02152068e+00]\n",
      " [-9.97626248e-02  2.54956957e-01 -6.87460386e+00]\n",
      " [-6.99216508e-01 -4.33666168e+00 -1.73659042e+00]\n",
      " [-2.31391704e-01 -1.13503387e+00  6.67384033e+00]\n",
      " [ 4.38217474e+00 -3.71887202e+00 -2.55458992e+00]\n",
      " [ 2.51186848e+00 -9.00449469e-01  2.30505616e+00]\n",
      " [ 3.88400418e+00 -1.39955930e+00 -3.94382853e-01]\n",
      " [-7.70449812e-02 -6.45565566e-01 -6.99877393e+00]\n",
      " [ 4.55442533e+00 -2.30132271e+00 -2.67251601e+00]\n",
      " [-3.71183617e+00 -1.01413496e+00 -3.24561598e+00]\n",
      " [-9.46792522e-02 -1.26153467e+00  2.98413121e+00]\n",
      " [-7.91276370e-01 -1.51483464e+00 -7.24633922e+00]\n",
      " [ 1.17559420e+00 -3.26695375e+00 -4.78170674e+00]\n",
      " [ 1.04684977e-01 -5.82608018e-01  5.94291602e+00]\n",
      " [ 2.13597655e+00  7.28427878e-01 -4.44394703e+00]\n",
      " [ 9.67376920e-01 -2.89754289e+00 -5.10952364e+00]\n",
      " [-2.51199974e-02 -6.53979594e-01 -6.99538315e+00]\n",
      " [-6.74241369e-02 -3.39832111e-01 -6.99119459e+00]\n",
      " [-6.58266571e-01 -5.59423146e+00  1.53130969e-01]\n",
      " [-2.95214949e+00 -2.12788613e+00 -4.26447245e+00]\n",
      " [-3.84611513e-01 -6.05748374e-01 -7.31448799e+00]]\n"
     ]
    },
    {
     "data": {
      "image/png": "[encoded data removed]",
      "text/plain": [
       "<Figure size 432x288 with 1 Axes>"
      ]
     },
     "metadata": {
      "needs_background": "light"
     },
     "output_type": "display_data"
    }
   ],
   "source": [
    "print(solution.y.shape)\n",
    "\n",
    "pos = solution.y[:x_upper_bound]\n",
    "vel = solution.y[v_lower_bound:]\n",
    "\n",
    "times= solution.t\n",
    "\n",
    "print(vel[:,steps-1])\n",
    "\n",
    "vel=vel.reshape((birds, ndim, len(times)))\n",
    "print(vel[:,:, steps-1])\n",
    "\n",
    "norm_vel = np.zeros((birds, len(times)))\n",
    "for i in range(birds):\n",
    "    for t in range(len(times)):\n",
    "        norm_vel[i, t] = np.linalg.norm(vel[i, :, t])\n",
    "\n",
    "        \n",
    "        \n",
    "for i in range(birds):\n",
    "    plt.plot(times, norm_vel[i,:])\n"
   ]
  },
  {
   "cell_type": "code",
   "execution_count": null,
   "metadata": {},
   "outputs": [],
   "source": []
  }
 ],
 "metadata": {
  "kernelspec": {
   "display_name": "Python 3 (ipykernel)",
   "language": "python",
   "name": "python3"
  },
  "language_info": {
   "codemirror_mode": {
    "name": "ipython",
    "version": 3
   },
   "file_extension": ".py",
   "mimetype": "text/x-python",
   "name": "python",
   "nbconvert_exporter": "python",
   "pygments_lexer": "ipython3",
   "version": "3.8.10"
  }
 },
 "nbformat": 4,
 "nbformat_minor": 4
}
