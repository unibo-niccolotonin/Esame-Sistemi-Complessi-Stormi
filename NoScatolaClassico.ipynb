{
 "cells": [
  {
   "cell_type": "code",
   "execution_count": 134,
   "metadata": {},
   "outputs": [],
   "source": [
    "import numpy as np\n",
    "import scipy.integrate as sp\n",
    "import random as rd\n",
    "import math as mp\n",
    "import matplotlib.pyplot as plt\n",
    "import matplotlib as mpl"
   ]
  },
  {
   "cell_type": "code",
   "execution_count": 135,
   "metadata": {},
   "outputs": [],
   "source": [
    "steps =  5\n",
    "birds =  50\n",
    "H     =    1\n",
    "beta  =    0.3\n",
    "ndim  =    3\n",
    "\n",
    "init_vel_max = 18\n",
    "init_vel_min = 10\n",
    "init_radius = 50\n",
    "\n",
    "x_upper_bound = birds * ndim\n",
    "v_lower_bound = x_upper_bound\n",
    "v_upper_bound = 2 * birds * ndim"
   ]
  },
  {
   "cell_type": "code",
   "execution_count": 136,
   "metadata": {},
   "outputs": [],
   "source": [
    "time_values = np.zeros((steps))\n",
    "for i in range (steps):\n",
    "    time_values[i] = i"
   ]
  },
  {
   "cell_type": "code",
   "execution_count": 137,
   "metadata": {},
   "outputs": [],
   "source": [
    "init_phase_space = np.zeros((birds * 2 * ndim))"
   ]
  },
  {
   "cell_type": "code",
   "execution_count": 138,
   "metadata": {},
   "outputs": [],
   "source": [
    "def get_pos(bird_set, i, k):\n",
    "    return bird_set[i*ndim + k]\n",
    "def get_vel(bird_set, i, k):\n",
    "    return bird_set[v_lower_bound + i*ndim + k]"
   ]
  },
  {
   "cell_type": "code",
   "execution_count": 139,
   "metadata": {},
   "outputs": [],
   "source": [
    "def pos_diff_norm(bird_set, i, j):\n",
    "    sum=0\n",
    "    for k in range(ndim):\n",
    "        sum += (get_pos(bird_set, i, k) - get_pos(bird_set, j, k))**2\n",
    "    return sum"
   ]
  },
  {
   "cell_type": "code",
   "execution_count": 140,
   "metadata": {},
   "outputs": [],
   "source": [
    "def vel_diff_norm(bird_set, i, j):\n",
    "    sum=0\n",
    "    for k in range(ndim):\n",
    "        sum += (get_vel(bird_set, i, k) - get_vel(bird_set, j, k))**2\n",
    "    return sum"
   ]
  },
  {
   "cell_type": "code",
   "execution_count": 141,
   "metadata": {},
   "outputs": [],
   "source": [
    "def Aij(bird_set, i, j):\n",
    "    return H / (pow(1 + pow(vel_diff_norm(bird_set, i, j), 2), beta))"
   ]
  },
  {
   "cell_type": "code",
   "execution_count": 142,
   "metadata": {},
   "outputs": [],
   "source": [
    "\"\"\"\n",
    "def rhs_equation(t, array):\n",
    "    vett = np.zeros((birds * 2, ndim))\n",
    "    for i in range(birds):\n",
    "        vett[i] = array[i + birds]\n",
    "    \n",
    "    j = i\n",
    "    somma = 0\n",
    "    while i < (birds * 2):\n",
    "        while j < (birds * 2):\n",
    "            if i != j:\n",
    "                somma += Aij(array[i - birds], array[j - birds]) * (array[j] - array[i])\n",
    "            j += 1\n",
    "        vett[i] = somma\n",
    "        i += 1\n",
    "    return vett\n",
    "\"\"\"\n",
    "\n",
    "def rhs_equation(t, phase_space):\n",
    "    vett = np.zeros(birds * 2 * ndim)    \n",
    "    \n",
    "    #equazioni differenziali delle posizioni\n",
    "    for i in range (birds):\n",
    "        x_i = i*ndim\n",
    "        for k in range(ndim):\n",
    "            vett[x_i + k] = phase_space[i + k]\n",
    "    \n",
    "    #equazioni differenziali delle velocità\n",
    "    for i in range (birds):\n",
    "        v_i = v_lower_bound + ndim * i\n",
    "        \n",
    "        sum = np.zeros((ndim))\n",
    "        #somma per ogni componente di i\n",
    "        \n",
    "        for k in range (ndim):\n",
    "            for j in range (birds):\n",
    "                v_jk = get_vel(phase_space, j, k)\n",
    "                v_ik = get_vel(phase_space, i, k)\n",
    "                sum[k] += Aij(phase_space, i, j) * (v_jk - v_ik)\n",
    "            vett[v_i + k] = sum[k]\n",
    "    return vett"
   ]
  },
  {
   "cell_type": "code",
   "execution_count": 143,
   "metadata": {
    "scrolled": false
   },
   "outputs": [
    {
     "data": {
      "text/plain": [
       "\"\\nps = init_phase_space.reshape(2, birds, ndim)[1, :, :]\\n\\nax = plt.axes(projection ='3d')\\nax.scatter(ps[:, 0], ps[:,1], ps[:,2])\\nplt.show()\\n\\nprint (init_phase_space.reshape(2, birds, ndim))\\n\""
      ]
     },
     "execution_count": 143,
     "metadata": {},
     "output_type": "execute_result"
    }
   ],
   "source": [
    "rd.seed()\n",
    "\n",
    "#inizializzo le posizioni\n",
    "for i in range (birds):\n",
    "    x_i = ndim * i\n",
    "    theta_x = rd.random() * mp.pi\n",
    "    phi_x = rd.random() * 2 * mp.pi\n",
    "    r = rd.random() * init_radius\n",
    "    \n",
    "    init_phase_space[x_i + 0]= r * mp.cos(phi_x) * mp.sin(theta_x)\n",
    "    init_phase_space[x_i + 1]= r * mp.sin(phi_x) * mp.sin(theta_x)\n",
    "    init_phase_space[x_i + 2]= r * mp.cos(theta_x)\n",
    "\n",
    "#inizializzo le velocità\n",
    "for i in range (birds):\n",
    "    v_i = v_lower_bound + ndim * i\n",
    "    theta_v = rd.random() * mp.pi / 4\n",
    "    phi_v = rd.random() * 2 * mp.pi\n",
    "    v = rd.random() * (init_vel_max - init_vel_min) + init_vel_min\n",
    "    \n",
    "    init_phase_space[v_i + 0]= v * mp.cos(phi_v) * mp.sin(theta_v)\n",
    "    init_phase_space[v_i + 1]= v * mp.sin(phi_v) * mp.sin(theta_v)\n",
    "    init_phase_space[v_i + 2]= v * mp.cos(theta_v)\n",
    "\n",
    "#print (init_phase_space.reshape(2, birds, ndim))\n",
    "\n",
    "    \n",
    "\"\"\"\n",
    "ps = init_phase_space.reshape(2, birds, ndim)[1, :, :]\n",
    "\n",
    "ax = plt.axes(projection ='3d')\n",
    "ax.scatter(ps[:, 0], ps[:,1], ps[:,2])\n",
    "plt.show()\n",
    "\n",
    "print (init_phase_space.reshape(2, birds, ndim))\n",
    "\"\"\""
   ]
  },
  {
   "cell_type": "code",
   "execution_count": 144,
   "metadata": {
    "scrolled": true
   },
   "outputs": [],
   "source": [
    "#f1 = open(f\"vel3D birds={birds} steps={steps} b={beta}.txt\", \"w\")\n",
    "#f2 = open(f\"pos3D birds={birds} steps={steps} b={beta}.txt\", \"w\")\n",
    "#f1.close()\n",
    "#f2.close()\n",
    "\n",
    "\n",
    "\n",
    "solution = sp.solve_ivp(fun=rhs_equation,y0 = init_phase_space, t_span=(0,steps))\n"
   ]
  },
  {
   "cell_type": "code",
   "execution_count": 145,
   "metadata": {
    "scrolled": false
   },
   "outputs": [
    {
     "name": "stdout",
     "output_type": "stream",
     "text": [
      "[ 0.28222066  1.14585364 11.59935403 -1.24766408 -3.32302459 12.72501744\n",
      "  0.52833284 -3.77523805 11.9530098  -0.38520894 -1.25985308 12.72278451\n",
      " -0.44412009 -0.97319397 12.74629051 -2.25588912 -0.33051599 11.42694106\n",
      " -0.15643684 -1.30755535 12.48420019 -0.1480053  -1.2611239  12.72974014\n",
      " -0.42216747 -1.15743745 12.78506127 -0.98169732 -1.57116107 12.28562215\n",
      " -0.38433625 -1.17180903 12.63376046 -0.40932372 -1.56016092 12.58764144\n",
      " -0.62035191 -1.56881928 12.51082076 -0.32362898 -1.33656706 12.47695745\n",
      " -1.1322895  -1.63299021 12.25594886 -0.41954427 -1.27061197 12.77909873\n",
      " -0.55945157 -1.06237766 12.76226775 -0.52488599 -1.09017022 12.68591661\n",
      " -1.1502859  -1.09607702 12.23453568 -0.69693075 -1.63856241 12.58867543\n",
      " -1.96084071  0.3516407  12.8780128   0.17975178 -5.3242235  12.36941547\n",
      " -0.38108257 -1.0182511  12.81735004 -4.29288419  3.50140198 12.20035078\n",
      " -0.42513968 -1.16063852 12.72775261 -0.67691198 -1.83348186 12.2536281\n",
      " -0.46961559 -1.37757126 12.55469708 -0.42448411 -1.16318364 12.69044561\n",
      " -1.19170203 -1.91035383 12.53146513 -0.66760564 -1.09886941 12.41123218\n",
      " -0.2017315  -0.69122324 12.40627847 -0.77102693 -1.88659818 12.18045868\n",
      "  2.68502429 -3.04017189 11.95349235  1.62764384 -2.55637728 11.90943217\n",
      " -0.41364381 -1.21156017 12.78826941 -0.42308351 -1.15396077 12.72995423\n",
      " -1.24930233 -2.96659159 11.54651705 -3.49553792 -0.30236366 11.61170189\n",
      " -0.22157548 -1.44717226 12.41489013 -0.30099167 -1.36348915 12.44099733\n",
      " -0.43703379 -1.16947058 12.74300978  2.37781421 -1.65638635 11.03897855\n",
      " -0.41216796 -0.95897707 12.68265427 -1.88386074 -1.3257783  12.49178386\n",
      " -0.42779739 -1.18083511 12.62782936 -1.29555284 -2.93997252 11.61336933\n",
      " -0.36233877 -1.0973667  12.61453422 -2.3568524  -0.59951128 11.36756433\n",
      " -0.24935875 -1.12890174 12.67814436  3.75524633  2.24676216 11.70892584]\n",
      "[[ 0.28222066  1.14585364 11.59935403]\n",
      " [-1.24766408 -3.32302459 12.72501744]\n",
      " [ 0.52833284 -3.77523805 11.9530098 ]\n",
      " [-0.38520894 -1.25985308 12.72278451]\n",
      " [-0.44412009 -0.97319397 12.74629051]\n",
      " [-2.25588912 -0.33051599 11.42694106]\n",
      " [-0.15643684 -1.30755535 12.48420019]\n",
      " [-0.1480053  -1.2611239  12.72974014]\n",
      " [-0.42216747 -1.15743745 12.78506127]\n",
      " [-0.98169732 -1.57116107 12.28562215]\n",
      " [-0.38433625 -1.17180903 12.63376046]\n",
      " [-0.40932372 -1.56016092 12.58764144]\n",
      " [-0.62035191 -1.56881928 12.51082076]\n",
      " [-0.32362898 -1.33656706 12.47695745]\n",
      " [-1.1322895  -1.63299021 12.25594886]\n",
      " [-0.41954427 -1.27061197 12.77909873]\n",
      " [-0.55945157 -1.06237766 12.76226775]\n",
      " [-0.52488599 -1.09017022 12.68591661]\n",
      " [-1.1502859  -1.09607702 12.23453568]\n",
      " [-0.69693075 -1.63856241 12.58867543]\n",
      " [-1.96084071  0.3516407  12.8780128 ]\n",
      " [ 0.17975178 -5.3242235  12.36941547]\n",
      " [-0.38108257 -1.0182511  12.81735004]\n",
      " [-4.29288419  3.50140198 12.20035078]\n",
      " [-0.42513968 -1.16063852 12.72775261]\n",
      " [-0.67691198 -1.83348186 12.2536281 ]\n",
      " [-0.46961559 -1.37757126 12.55469708]\n",
      " [-0.42448411 -1.16318364 12.69044561]\n",
      " [-1.19170203 -1.91035383 12.53146513]\n",
      " [-0.66760564 -1.09886941 12.41123218]\n",
      " [-0.2017315  -0.69122324 12.40627847]\n",
      " [-0.77102693 -1.88659818 12.18045868]\n",
      " [ 2.68502429 -3.04017189 11.95349235]\n",
      " [ 1.62764384 -2.55637728 11.90943217]\n",
      " [-0.41364381 -1.21156017 12.78826941]\n",
      " [-0.42308351 -1.15396077 12.72995423]\n",
      " [-1.24930233 -2.96659159 11.54651705]\n",
      " [-3.49553792 -0.30236366 11.61170189]\n",
      " [-0.22157548 -1.44717226 12.41489013]\n",
      " [-0.30099167 -1.36348915 12.44099733]\n",
      " [-0.43703379 -1.16947058 12.74300978]\n",
      " [ 2.37781421 -1.65638635 11.03897855]\n",
      " [-0.41216796 -0.95897707 12.68265427]\n",
      " [-1.88386074 -1.3257783  12.49178386]\n",
      " [-0.42779739 -1.18083511 12.62782936]\n",
      " [-1.29555284 -2.93997252 11.61336933]\n",
      " [-0.36233877 -1.0973667  12.61453422]\n",
      " [-2.3568524  -0.59951128 11.36756433]\n",
      " [-0.24935875 -1.12890174 12.67814436]\n",
      " [ 3.75524633  2.24676216 11.70892584]]\n"
     ]
    },
    {
     "data": {
      "image/png": "[encoded data removed]",
      "text/plain": [
       "<Figure size 432x288 with 1 Axes>"
      ]
     },
     "metadata": {
      "needs_background": "light"
     },
     "output_type": "display_data"
    }
   ],
   "source": [
    "pos = solution.y[:x_upper_bound]\n",
    "vel = solution.y[v_lower_bound:]\n",
    "\n",
    "times= solution.t\n",
    "\n",
    "print(vel[:,steps-1])\n",
    "\n",
    "vel=vel.reshape((birds, ndim, len(times)))\n",
    "print(vel[:,:, steps-1])\n",
    "\n",
    "norm_vel = np.zeros((birds, len(times)))\n",
    "for i in range(birds):\n",
    "    for t in range(len(times)):\n",
    "        norm_vel[i, t] = np.linalg.norm(vel[i, :, t])\n",
    "\n",
    "        \n",
    "        \n",
    "for i in range(birds):\n",
    "    plt.plot(times, norm_vel[i,:])\n"
   ]
  },
  {
   "cell_type": "code",
   "execution_count": null,
   "metadata": {},
   "outputs": [],
   "source": []
  }
 ],
 "metadata": {
  "kernelspec": {
   "display_name": "Python 3 (ipykernel)",
   "language": "python",
   "name": "python3"
  },
  "language_info": {
   "codemirror_mode": {
    "name": "ipython",
    "version": 3
   },
   "file_extension": ".py",
   "mimetype": "text/x-python",
   "name": "python",
   "nbconvert_exporter": "python",
   "pygments_lexer": "ipython3",
   "version": "3.8.10"
  }
 },
 "nbformat": 4,
 "nbformat_minor": 4
}
