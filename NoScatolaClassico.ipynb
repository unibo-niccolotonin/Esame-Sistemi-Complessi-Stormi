{
 "cells": [
  {
   "cell_type": "code",
   "execution_count": 143,
   "metadata": {},
   "outputs": [],
   "source": [
    "import numpy as np\n",
    "import scipy.integrate as sp\n",
    "import random as rd\n",
    "import math as mp\n",
    "import matplotlib.pyplot as plt\n",
    "import matplotlib as mpl"
   ]
  },
  {
   "cell_type": "code",
   "execution_count": 144,
   "metadata": {},
   "outputs": [],
   "source": [
    "steps =  1\n",
    "birds =  10\n",
    "H     =    1\n",
    "beta  =    0.5\n",
    "ndim  =    3\n",
    "\n",
    "init_vel_max = 18\n",
    "init_vel_min = 10\n",
    "init_radius = 50\n",
    "\n",
    "x_upper_bound = birds * ndim\n",
    "v_lower_bound = x_upper_bound\n",
    "v_upper_bound = 2 * birds * ndim"
   ]
  },
  {
   "cell_type": "code",
   "execution_count": 145,
   "metadata": {},
   "outputs": [],
   "source": [
    "time_values = np.zeros((steps))\n",
    "for i in range (steps):\n",
    "    time_values[i] = i"
   ]
  },
  {
   "cell_type": "code",
   "execution_count": 146,
   "metadata": {},
   "outputs": [],
   "source": [
    "init_phase_space = np.zeros((birds * 2 * ndim))"
   ]
  },
  {
   "cell_type": "code",
   "execution_count": 147,
   "metadata": {},
   "outputs": [],
   "source": [
    "def get_pos(bird_set, i, k):\n",
    "    return bird_set[i + k]\n",
    "def get_vel(bird_set, i, k):\n",
    "    return bird_set[birds + i + k]"
   ]
  },
  {
   "cell_type": "code",
   "execution_count": 148,
   "metadata": {},
   "outputs": [],
   "source": [
    "def pos_diff_norm(bird_set, i, j):\n",
    "    sum=0\n",
    "    for k in range(ndim):\n",
    "        sum = (get_pos(bird_set, i, k) - get_pos(bird_set, j, k))**2\n",
    "    return sum"
   ]
  },
  {
   "cell_type": "code",
   "execution_count": 149,
   "metadata": {},
   "outputs": [],
   "source": [
    "def vel_diff_norm(bird_set, i, j):\n",
    "    sum=0\n",
    "    for k in range(ndim):\n",
    "        sum = (get_vel(bird_set, i, k) - get_vel(bird_set, j, k))**2\n",
    "    return sum"
   ]
  },
  {
   "cell_type": "code",
   "execution_count": 150,
   "metadata": {},
   "outputs": [],
   "source": [
    "def Aij(bird_set, i, j):\n",
    "    return H / (pow(1 + pow(vel_diff_norm(bird_set, i, j), 2), beta))"
   ]
  },
  {
   "cell_type": "code",
   "execution_count": 151,
   "metadata": {},
   "outputs": [],
   "source": [
    "\"\"\"\n",
    "def rhs_equation(t, array):\n",
    "    vett = np.zeros((birds * 2, ndim))\n",
    "    for i in range(birds):\n",
    "        vett[i] = array[i + birds]\n",
    "    \n",
    "    j = i\n",
    "    somma = 0\n",
    "    while i < (birds * 2):\n",
    "        while j < (birds * 2):\n",
    "            if i != j:\n",
    "                somma += Aij(array[i - birds], array[j - birds]) * (array[j] - array[i])\n",
    "            j += 1\n",
    "        vett[i] = somma\n",
    "        i += 1\n",
    "    return vett\n",
    "\"\"\"\n",
    "\n",
    "def rhs_equation(t, phase_space):\n",
    "    vett = np.zeros(birds * 2 * ndim)    \n",
    "    \n",
    "    #equazioni differenziali delle posizioni\n",
    "    for i in range (birds):\n",
    "        x_i = i*ndim\n",
    "        for k in range(ndim):\n",
    "            vett[x_i + k] = phase_space[i + k]\n",
    "    \n",
    "    #equazioni differenziali delle velocità\n",
    "    for i in range (birds):\n",
    "        v_i = v_lower_bound + ndim * i\n",
    "        \n",
    "        sum = np.zeros((ndim))\n",
    "        #somma per ogni componente di i\n",
    "        \n",
    "        for k in range (ndim):\n",
    "            for j in range (birds):\n",
    "                v_jk = get_vel(phase_space, j, k)\n",
    "                v_ik = get_vel(phase_space, i, k)\n",
    "                sum[k] += Aij(phase_space, i, j) * (v_jk - v_ik)\n",
    "            vett[v_i + k] = sum[k]\n",
    "    return vett"
   ]
  },
  {
   "cell_type": "code",
   "execution_count": 153,
   "metadata": {},
   "outputs": [
    {
     "name": "stdout",
     "output_type": "stream",
     "text": [
      "[ 20.53688283  -7.68446449  -9.17194521 -11.98328764  44.70872978\n",
      "   1.08659762  25.23459443  11.55664885 -25.94826497  34.58664008\n",
      "  25.24534907  -2.48768646   7.93669082  13.27191577  11.05087762\n",
      "  -1.60039233   8.93586955  -4.61150055   6.22874198  14.44568682\n",
      "  16.36053958 -34.90263343 -15.54036492  -6.94272295   1.77746712\n",
      "  -9.94805461 -16.11195701  -0.79222454   6.84798558 -14.25313709\n",
      "   6.37037964   6.12324582   9.58051356   1.44565392   4.48081927\n",
      "  14.01971798  15.10936242   1.51620389  -9.64482852  -6.30063728\n",
      "   3.81229384   9.24477309  -9.7164774    1.9289514   -6.19846918\n",
      "   2.98421371  -4.6552496  -13.57734697   4.67187792 -10.52976959\n",
      "   1.69272974   0.3653669   12.75674855  -4.83340606  -2.42525889\n",
      "   5.95160185  13.06165897   8.5609181   -8.75406368   9.46957342]\n"
     ]
    }
   ],
   "source": [
    "rd.seed()\n",
    "\n",
    "#inizializzo le posizioni\n",
    "for i in range (birds):\n",
    "    x_i = ndim * i\n",
    "    theta_x = rd.random() * mp.pi\n",
    "    phi_x = rd.random() * 2 * mp.pi\n",
    "    r = rd.random() * init_radius\n",
    "    \n",
    "    init_phase_space[x_i + 0]= r * mp.cos(phi_x) * mp.sin(theta_x)\n",
    "    init_phase_space[x_i + 1]= r * mp.sin(phi_x) * mp.sin(theta_x)\n",
    "    init_phase_space[x_i + 2]= r * mp.cos(theta_x)\n",
    "\n",
    "#inizializzo le velocità\n",
    "for i in range (birds):\n",
    "    v_i = v_lower_bound + ndim * i\n",
    "    theta_v = rd.random() * mp.pi\n",
    "    phi_v = rd.random() * 2 * mp.pi\n",
    "    v = rd.random() * (init_vel_max - init_vel_min) + init_vel_min\n",
    "    \n",
    "    init_phase_space[v_i + 0]= v * mp.cos(phi_v) * mp.sin(theta_v)\n",
    "    init_phase_space[v_i + 1]= v * mp.sin(phi_v) * mp.sin(theta_v)\n",
    "    init_phase_space[v_i + 2]= v * mp.cos(theta_v)\n",
    "\n",
    "print (init_phase_space)"
   ]
  },
  {
   "cell_type": "code",
   "execution_count": 154,
   "metadata": {
    "scrolled": true
   },
   "outputs": [
    {
     "name": "stdout",
     "output_type": "stream",
     "text": [
      "[0.]\n",
      "[[  6.37037964]\n",
      " [  6.12324582]\n",
      " [  9.58051356]\n",
      " [  1.44565392]\n",
      " [  4.48081927]\n",
      " [ 14.01971798]\n",
      " [ 15.10936242]\n",
      " [  1.51620389]\n",
      " [ -9.64482852]\n",
      " [ -6.30063728]\n",
      " [  3.81229384]\n",
      " [  9.24477309]\n",
      " [ -9.7164774 ]\n",
      " [  1.9289514 ]\n",
      " [ -6.19846918]\n",
      " [  2.98421371]\n",
      " [ -4.6552496 ]\n",
      " [-13.57734697]\n",
      " [  4.67187792]\n",
      " [-10.52976959]\n",
      " [  1.69272974]\n",
      " [  0.3653669 ]\n",
      " [ 12.75674855]\n",
      " [ -4.83340606]\n",
      " [ -2.42525889]\n",
      " [  5.95160185]\n",
      " [ 13.06165897]\n",
      " [  8.5609181 ]\n",
      " [ -8.75406368]\n",
      " [  9.46957342]]\n"
     ]
    }
   ],
   "source": [
    "#f1 = open(f\"vel3D birds={birds} steps={steps} b={beta}.txt\", \"w\")\n",
    "#f2 = open(f\"pos3D birds={birds} steps={steps} b={beta}.txt\", \"w\")\n",
    "#f1.close()\n",
    "#f2.close()\n",
    "\n",
    "\n",
    "\n",
    "solution = sp.solve_ivp(fun=rhs_equation,y0 = init_phase_space, t_span=(0,steps), t_eval = time_values, max_step=0.5)\n",
    "\n",
    "print(solution.t)\n",
    "print(solution.y[30:, :])"
   ]
  },
  {
   "cell_type": "code",
   "execution_count": null,
   "metadata": {},
   "outputs": [],
   "source": []
  }
 ],
 "metadata": {
  "kernelspec": {
   "display_name": "Python 3 (ipykernel)",
   "language": "python",
   "name": "python3"
  },
  "language_info": {
   "codemirror_mode": {
    "name": "ipython",
    "version": 3
   },
   "file_extension": ".py",
   "mimetype": "text/x-python",
   "name": "python",
   "nbconvert_exporter": "python",
   "pygments_lexer": "ipython3",
   "version": "3.8.10"
  }
 },
 "nbformat": 4,
 "nbformat_minor": 4
}
