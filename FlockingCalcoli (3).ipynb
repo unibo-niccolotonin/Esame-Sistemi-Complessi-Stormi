{
 "cells": [
  {
   "cell_type": "code",
   "execution_count": 240,
   "metadata": {},
   "outputs": [],
   "source": [
    "#Importo librerie utili al programma\n",
    "import numpy as np\n",
    "import random as rd\n",
    "import math as mp\n",
    "import matplotlib.pyplot as plt\n",
    "import matplotlib as mpl\n",
    "from mpl_toolkits.mplot3d import Axes3D\n",
    "from scipy.spatial import ConvexHull\n",
    "from scipy.spatial import Delaunay\n",
    "import csv\n",
    "import seaborn as sns"
   ]
  },
  {
   "cell_type": "code",
   "execution_count": 241,
   "metadata": {},
   "outputs": [],
   "source": [
    "#Variabili utili al programma\n",
    "steps=500\n",
    "birds=200\n",
    "\n",
    "b=0.1\n",
    "\n",
    "ndim=3\n",
    "view_step=99"
   ]
  },
  {
   "cell_type": "markdown",
   "metadata": {},
   "source": [
    "Dai file di testo, prodotti dal programmi precedenti, leggo le velocità e le posizioni degli uccelli per ogni step e solo per uno step fissato in precedenza.\n",
    "Si ricordi di modificare sempre il nome del file di cui si sta leggendo, il numero degli uccelli, numero di steps usati e step di riferimento, per poter eseguire i calcoli.\n",
    "Nei file di testo ogni n righe (n=birds) rappresenta un singolo step."
   ]
  },
  {
   "cell_type": "code",
   "execution_count": 242,
   "metadata": {},
   "outputs": [
    {
     "name": "stdout",
     "output_type": "stream",
     "text": [
      "(100000, 3)\n"
     ]
    }
   ],
   "source": [
    "vel_file = open(f\"scatola vel3D birds={birds} steps={steps} b={b}.txt\")\n",
    "pos_file = open(f\"scatola pos3D birds={birds} steps={steps} b={b}.txt\")\n",
    "\n",
    "#vel_file = open(f\"Vbird100_s100_H1_B05_C_convergente\")\n",
    "#pos_file = open(f\"Pbird100_s100_H1_B05_C_convergente\")\n",
    "\n",
    "\n",
    "read_vel = csv.reader(vel_file, delimiter=\" \")\n",
    "read_pos = csv.reader(pos_file, delimiter=\" \")\n",
    "file_vel = []\n",
    "file_pos = []\n",
    "\n",
    "for row in read_vel:\n",
    "    file_vel.append(row)\n",
    "\n",
    "for row1 in read_pos:\n",
    "    file_pos.append(row1)\n",
    "    \n",
    "#Trasformo ciò che ho letto nei file in matrici numpy\n",
    "file_vel_tot = np.array(file_vel,dtype=float)\n",
    "file_pos_tot = np.array(file_pos,dtype=float)\n",
    "\n",
    "#Eseguo questo calcolo per prendere solo gli uccelli ad un certo step fissato\n",
    "\n",
    "print(file_vel_tot.shape)"
   ]
  },
  {
   "cell_type": "code",
   "execution_count": 243,
   "metadata": {},
   "outputs": [],
   "source": [
    "def pos_at_step(a):\n",
    "    cont=(a -1) * birds\n",
    "    i=0\n",
    "    data_pos = np.zeros((birds, 3))\n",
    "    fine=cont+birds\n",
    "\n",
    "    while cont < (fine):\n",
    "       data_pos[i]=file_pos_tot[cont]\n",
    "       cont+=1\n",
    "       i+=1\n",
    "    return data_pos"
   ]
  },
  {
   "cell_type": "code",
   "execution_count": 244,
   "metadata": {},
   "outputs": [],
   "source": [
    "def vel_at_step(a):\n",
    "    cont=(a-1) * birds\n",
    "    i=0\n",
    "    data_vel = np.zeros((birds, 3))\n",
    "    fine=cont+birds\n",
    "\n",
    "    while cont < (fine):\n",
    "       data_vel[i]=file_vel_tot[cont]\n",
    "       cont+=1\n",
    "       i+=1\n",
    "    return data_vel"
   ]
  },
  {
   "cell_type": "markdown",
   "metadata": {},
   "source": [
    "# Calcolo delle fluttuazioni U:\n",
    "![Fluttuazioni](Fluttuazioni.png)"
   ]
  },
  {
   "cell_type": "code",
   "execution_count": 245,
   "metadata": {
    "scrolled": true
   },
   "outputs": [
    {
     "name": "stdout",
     "output_type": "stream",
     "text": [
      "[-0.36900481  0.00680965  0.66992675]\n"
     ]
    }
   ],
   "source": [
    "velstep=vel_at_step(view_step)\n",
    "U=np.zeros((birds,ndim))\n",
    "velMedia=np.mean(velstep,axis=0)\n",
    "\n",
    "for j in range (birds):\n",
    "    U[j] = velstep[j] - velMedia\n",
    "        \n",
    "#controllo che u sia uguale a zero\n",
    "controll= np.round(np.sum(U,axis=0),1)\n",
    "\n",
    "print(velMedia)"
   ]
  },
  {
   "cell_type": "markdown",
   "metadata": {},
   "source": [
    "Funzione di correlazione:\n",
    "![Correlazione](Correlazione.jpg)"
   ]
  },
  {
   "cell_type": "code",
   "execution_count": 247,
   "metadata": {},
   "outputs": [],
   "source": [
    "#Funzione delta correlazione\n",
    "def delta(sigma):\n",
    "    if sigma == 0:\n",
    "        return 1\n",
    "    else:\n",
    "        return 0\n",
    "    \n",
    "#Funzione correlazione C(r) per uno step\n",
    "def correlation(r):\n",
    "    velox=U\n",
    "    posix=pos_at_step(view_step)\n",
    "    som=0\n",
    "    somDelta=0\n",
    "    for i in range (birds):\n",
    "        for j in range (birds):\n",
    "            modvi=np.linalg.norm(velox[i])\n",
    "            modvj=np.linalg.norm(velox[j])\n",
    "            si=velox[i]/modvi\n",
    "            sj=velox[j]/modvj\n",
    "            r1=np.round(np.linalg.norm(posix[i]-posix[j]),0)\n",
    "            delt=delta(r-r1)\n",
    "            somj=np.dot(si,sj)*delt\n",
    "            som = som + somj\n",
    "            somDelta = somDelta + delt\n",
    "    if somDelta == 0:\n",
    "        return False,0\n",
    "    else:\n",
    "        return True,(som / somDelta)"
   ]
  },
  {
   "cell_type": "markdown",
   "metadata": {},
   "source": [
    "Calcolo valore correlazione per ogni r dell'array r2 e stampo il grafico relativo.\n"
   ]
  },
  {
   "cell_type": "code",
   "execution_count": 248,
   "metadata": {
    "scrolled": false
   },
   "outputs": [
    {
     "name": "stdout",
     "output_type": "stream",
     "text": [
      "0\n",
      "1\n",
      "2\n",
      "3\n",
      "4\n",
      "5\n",
      "6\n",
      "7\n",
      "8\n",
      "9\n",
      "10\n",
      "11\n",
      "12\n",
      "13\n",
      "14\n",
      "15\n",
      "16\n",
      "17\n",
      "18\n",
      "19\n",
      "20\n",
      "21\n",
      "22\n",
      "23\n",
      "24\n",
      "25\n",
      "26\n",
      "27\n",
      "28\n",
      "29\n",
      "30\n",
      "31\n",
      "32\n",
      "33\n",
      "34\n"
     ]
    },
    {
     "data": {
      "image/png": "[encoded data removed]",
      "text/plain": [
       "<Figure size 432x288 with 1 Axes>"
      ]
     },
     "metadata": {
      "needs_background": "light"
     },
     "output_type": "display_data"
    }
   ],
   "source": [
    "massimo = 35\n",
    "normalization = correlation(0)\n",
    "\n",
    "r2 = np.arange(0,massimo,1)\n",
    "cor = []\n",
    "r = []\n",
    "for i in range (r2.size):\n",
    "    result = correlation(r2[i])\n",
    "    if result[0] == True:\n",
    "        cor.append(np.round(result[1],2) / normalization[1])\n",
    "        r.append(r2[i])\n",
    "    print(i)\n",
    "cor=np.array(cor)\n",
    "r=np.array(r)\n",
    "\n",
    "plt.plot(r, cor, marker = \"o\", color = 'red')\n",
    "plt.title(\"Grafico correlazione\")\n",
    "plt.xlabel(\"R\") \n",
    "plt.ylabel(\"Correlation(R)\")\n",
    "plt.show()"
   ]
  },
  {
   "cell_type": "markdown",
   "metadata": {},
   "source": [
    "Rappresentazione volume ad un certo step t"
   ]
  },
  {
   "cell_type": "code",
   "execution_count": 249,
   "metadata": {
    "scrolled": true
   },
   "outputs": [
    {
     "data": {
      "image/png": "[encoded data removed]",
      "text/plain": [
       "<Figure size 432x288 with 1 Axes>"
      ]
     },
     "metadata": {
      "needs_background": "light"
     },
     "output_type": "display_data"
    }
   ],
   "source": [
    "pts=pos_at_step(view_step)\n",
    "hull = ConvexHull(pts)\n",
    "\n",
    "fig = plt.figure()\n",
    "ax = fig.add_subplot(111, projection=\"3d\")\n",
    "\n",
    "# Plot defining corner points\n",
    "ax.plot(pts.T[0], pts.T[1], pts.T[2], \"ko\")\n",
    "\n",
    "# 12 = 2 * 6 faces are the simplices (2 simplices per square face)\n",
    "for s in hull.simplices:\n",
    "    s = np.append(s, s[0])  # Here we cycle back to the first coordinate\n",
    "    ax.plot(pts[s, 0], pts[s, 1], pts[s, 2], \"r-\")\n",
    "\n",
    "# Make axis label\n",
    "for i in [\"x\", \"y\", \"z\"]:\n",
    "    eval(\"ax.set_{:s}label('{:s}')\".format(i, i))\n",
    "\n",
    "plt.show()"
   ]
  },
  {
   "cell_type": "markdown",
   "metadata": {},
   "source": [
    "Calcolo polarizzazione:\n",
    "![Polarizzazione](Polarizzazione.png)"
   ]
  },
  {
   "cell_type": "code",
   "execution_count": 250,
   "metadata": {
    "scrolled": false
   },
   "outputs": [
    {
     "name": "stdout",
     "output_type": "stream",
     "text": [
      "0.755855556733961\n"
     ]
    }
   ],
   "source": [
    "array=np.zeros((birds,ndim))\n",
    "for j in range (birds):\n",
    "    norm = np.linalg.norm(vel_at_step(view_step)[j])\n",
    "    array[j] = vel_at_step(view_step)[j] / norm\n",
    "pol=np.linalg.norm(np.mean(array,axis=0))\n",
    "print(pol)"
   ]
  },
  {
   "cell_type": "code",
   "execution_count": 251,
   "metadata": {},
   "outputs": [],
   "source": [
    "#Nomalizzo le velocità medie\n",
    "VelNorm=velMedia/np.linalg.norm(velMedia)"
   ]
  },
  {
   "cell_type": "markdown",
   "metadata": {},
   "source": [
    "Quantificazione dell'anisotropia dello stormo:\n",
    "![Anisotropia](anisotropia.png)"
   ]
  },
  {
   "cell_type": "code",
   "execution_count": 252,
   "metadata": {},
   "outputs": [
    {
     "name": "stdout",
     "output_type": "stream",
     "text": [
      "0.03271246494977909\n"
     ]
    }
   ],
   "source": [
    "position=pos_at_step(view_step)\n",
    "veloc=vel_at_step(view_step)\n",
    "mini=200\n",
    "matrix=np.zeros((birds,3,3))\n",
    "for i in range(birds):\n",
    "    for j in range(birds):\n",
    "        if i != j:\n",
    "            val=np.linalg.norm(position[i]-position[j])\n",
    "            if val < mini:\n",
    "                j1=j\n",
    "                mini=val\n",
    "    ui=(veloc[i]/np.linalg.norm(veloc[i]))\n",
    "    uj=(veloc[j1]/np.linalg.norm(veloc[j1]))\n",
    "    matrix[i][0][0]=ui[0]*uj[0]\n",
    "    matrix[i][0][1]=ui[0]*uj[1]\n",
    "    matrix[i][0][2]=ui[0]*uj[2]\n",
    "    matrix[i][1][0]=ui[1]*uj[0]\n",
    "    matrix[i][1][1]=ui[1]*uj[1]\n",
    "    matrix[i][1][2]=ui[1]*uj[2]\n",
    "    matrix[i][2][0]=ui[2]*uj[0]\n",
    "    matrix[i][2][1]=ui[2]*uj[1]\n",
    "    matrix[i][2][2]=ui[2]*uj[2]\n",
    "    mini=200\n",
    "\n",
    "Mmedio=np.mean(matrix,axis=0)\n",
    "autovalori, autovettori = np.linalg.eig(Mmedio)\n",
    "low=min(autovalori)\n",
    "index,=np.where(autovalori==low)\n",
    "autovet=autovettori[index,:]\n",
    "vet=autovet/np.linalg.norm(autovet)\n",
    "gamma=pow(vet[0][0]*VelNorm[0]+vet[0][1]*VelNorm[1]+vet[0][2]*VelNorm[2],2)\n",
    "print(gamma)"
   ]
  },
  {
   "cell_type": "markdown",
   "metadata": {},
   "source": [
    "Calcolo modulo velocità media per ogni uccello ad ogni step"
   ]
  },
  {
   "cell_type": "code",
   "execution_count": 253,
   "metadata": {},
   "outputs": [],
   "source": [
    "velMod_tot=np.linalg.norm(file_vel_tot, axis=1)\n",
    "velMod=np.zeros((steps,birds))\n",
    "t=0\n",
    "ucc=0\n",
    "for i in range (velMod_tot.size):\n",
    "    velMod[t][ucc]=velMod_tot[i]\n",
    "    ucc+=1\n",
    "    if ucc==birds:\n",
    "        ucc=0\n",
    "        t+=1    "
   ]
  },
  {
   "cell_type": "markdown",
   "metadata": {},
   "source": [
    "Stampo grafico del modulo della velocità per ogni uccello - ogni step"
   ]
  },
  {
   "cell_type": "code",
   "execution_count": 259,
   "metadata": {
    "scrolled": true
   },
   "outputs": [
    {
     "data": {
      "image/png": "[encoded data removed]",
      "text/plain": [
       "<Figure size 432x288 with 1 Axes>"
      ]
     },
     "metadata": {
      "needs_background": "light"
     },
     "output_type": "display_data"
    }
   ],
   "source": [
    "max_time=100\n",
    "view_birds=100\n",
    "\n",
    "tempo=[]\n",
    "for j in range (velMod.shape[0]):\n",
    "    tempo.append(j)\n",
    "tempo=np.array(tempo)\n",
    "\n",
    "plt.plot(tempo[0:max_time], velMod[:max_time,:view_birds], marker = \"o\", color = 'red',linewidth=1, markersize=0.11)\n",
    "plt.title(\"Grafico Mod_Vel - Tempo\")\n",
    "plt.xlabel(\"Tempo\") \n",
    "plt.ylabel(\"Modulo Velocità\")\n",
    "\n",
    "plt.show()"
   ]
  },
  {
   "cell_type": "code",
   "execution_count": 260,
   "metadata": {
    "scrolled": true
   },
   "outputs": [
    {
     "data": {
      "image/png": "[encoded data removed]",
      "text/plain": [
       "<Figure size 432x288 with 1 Axes>"
      ]
     },
     "metadata": {
      "needs_background": "light"
     },
     "output_type": "display_data"
    }
   ],
   "source": [
    "\n",
    "ModVelUcc=np.linalg.norm(vel_at_step(view_step),axis=1)\n",
    "minMod=min(ModVelUcc.reshape(-1,1))\n",
    "maxMod=max(ModVelUcc.reshape(-1,1))\n",
    "\"\"\"\n",
    "rang=(maxMod-minMod)/4\n",
    "Bins=np.zeros(4)\n",
    "rangValue=np.array((rang,rang*2,rang*3,rang*4))\n",
    "for i in range (birds):\n",
    "    velb=ModVelUcc[i]\n",
    "    if velb < rang:\n",
    "        Bins[0]+=1\n",
    "    elif velb < (rang*2):\n",
    "        Bins[1]+=1\n",
    "    elif velb < (rang*3):\n",
    "        Bins[2]+=1\n",
    "    else:\n",
    "        Bins[3]+=1\n",
    "\"\"\"\n",
    "\n",
    "plt.hist(ModVelUcc, bins=50)\n",
    "plt.xlabel(\"Modulo Velocità\")\n",
    "plt.ylabel(\"Conteggio\")\n",
    "plt.title(\"Histogram\")\n",
    "plt.show()"
   ]
  },
  {
   "cell_type": "code",
   "execution_count": 261,
   "metadata": {},
   "outputs": [
    {
     "name": "stdout",
     "output_type": "stream",
     "text": [
      "[-0.00494391  0.02601618 -0.0034236 ]\n"
     ]
    }
   ],
   "source": [
    "def vel_media_at_step(step):\n",
    "    velstep=vel_at_step(step)\n",
    "    v_mean=np.mean(velstep,axis=0)\n",
    "    return v_mean\n",
    "\n",
    "print(vel_media_at_step(1))"
   ]
  },
  {
   "cell_type": "code",
   "execution_count": 262,
   "metadata": {},
   "outputs": [
    {
     "data": {
      "image/png": "[encoded data removed]",
      "text/plain": [
       "<Figure size 432x288 with 1 Axes>"
      ]
     },
     "metadata": {
      "needs_background": "light"
     },
     "output_type": "display_data"
    }
   ],
   "source": [
    "max_time=2000\n",
    "\n",
    "tempo=[]\n",
    "for j in range (steps):\n",
    "    tempo.append(j)\n",
    "tempo=np.array(tempo)\n",
    "\n",
    "vel_media_mod_tot = np.zeros((steps, ndim))\n",
    "\n",
    "for j in range(steps):\n",
    "    vel_media_mod_tot[j] = np.linalg.norm(vel_media_at_step(j))\n",
    "    \n",
    "\n",
    "plt.plot(tempo[0:max_time], vel_media_mod_tot[:max_time, :], marker = \"o\", color = 'red',linewidth=1, markersize=0.11)\n",
    "plt.title(\"Grafico Mod_Vel - Tempo\")\n",
    "plt.xlabel(\"Tempo\") \n",
    "plt.ylabel(\"Modulo Velocità\")\n",
    "\n",
    "plt.show()"
   ]
  },
  {
   "cell_type": "code",
   "execution_count": 263,
   "metadata": {},
   "outputs": [],
   "source": [
    "def polarization_at_step(step):\n",
    "    array=np.zeros((birds,ndim))\n",
    "    for j in range (birds):\n",
    "        norm = np.linalg.norm(vel_at_step(step)[j])\n",
    "        array[j] = vel_at_step(view_step)[j] / norm\n",
    "    pol=np.linalg.norm(np.mean(array,axis=0))\n",
    "    return pol"
   ]
  },
  {
   "cell_type": "code",
   "execution_count": null,
   "metadata": {},
   "outputs": [
    {
     "name": "stdout",
     "output_type": "stream",
     "text": [
      "0\n",
      "1\n",
      "2\n",
      "3\n",
      "4\n",
      "5\n",
      "6\n",
      "7\n",
      "8\n",
      "9\n",
      "10\n",
      "11\n",
      "12\n",
      "13\n",
      "14\n",
      "15\n",
      "16\n",
      "17\n",
      "18\n",
      "19\n",
      "20\n",
      "21\n",
      "22\n",
      "23\n",
      "24\n",
      "25\n",
      "26\n",
      "27\n"
     ]
    }
   ],
   "source": [
    "max_time=steps\n",
    "\n",
    "tempo=[]\n",
    "for j in range (steps):\n",
    "    tempo.append(j)\n",
    "tempo=np.array(tempo)\n",
    "\n",
    "pol_tot = np.zeros((steps, 1))\n",
    "\n",
    "for j in range (max_time):\n",
    "    pol_tot[j] = polarization_at_step(j)\n",
    "    print(j)\n",
    "    \n",
    "\n",
    "plt.plot(tempo[0:max_time], pol_tot[:max_time, :], marker = \"o\", color = 'red',linewidth=1, markersize=0.11)\n",
    "plt.title(\"Grafico Polarizzazione - Tempo\")\n",
    "plt.xlabel(\"Tempo\") \n",
    "plt.ylabel(\"Polarizzazione\")\n",
    "\n",
    "plt.show()"
   ]
  },
  {
   "cell_type": "code",
   "execution_count": null,
   "metadata": {},
   "outputs": [],
   "source": []
  },
  {
   "cell_type": "code",
   "execution_count": null,
   "metadata": {},
   "outputs": [],
   "source": []
  }
 ],
 "metadata": {
  "kernelspec": {
   "display_name": "Python 3 (ipykernel)",
   "language": "python",
   "name": "python3"
  },
  "language_info": {
   "codemirror_mode": {
    "name": "ipython",
    "version": 3
   },
   "file_extension": ".py",
   "mimetype": "text/x-python",
   "name": "python",
   "nbconvert_exporter": "python",
   "pygments_lexer": "ipython3",
   "version": "3.8.10"
  }
 },
 "nbformat": 4,
 "nbformat_minor": 4
}
