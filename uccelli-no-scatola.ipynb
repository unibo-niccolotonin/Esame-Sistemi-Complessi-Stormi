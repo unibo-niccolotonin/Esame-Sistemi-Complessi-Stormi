{
 "cells": [
  {
   "cell_type": "markdown",
   "metadata": {},
   "source": [
    "Il programma riportato in questo Notebook, è realizzato per simulare il fenomeno del flocking, tipico di molti uccelli. Viene considerato come modello matematico il modello di Cucker-Smale ridefinito senza considerare la scatola.\n",
    "\n",
    "Si fa riferimento all'articolo: [1] *Analysis and simulations of a refined flocking and swarming model of Cucker-Smale type,Kinetic & Related Models,4,1,1,16,2011-1-1,Martial Agueh,Reinhard Illner,Ashlin Richardson,1937-5093_2011_1_1, swarming, particle model, kinetic equation.,Flocking* "
   ]
  },
  {
   "cell_type": "code",
   "execution_count": 221,
   "metadata": {},
   "outputs": [],
   "source": [
    "import numpy as np\n",
    "import random as rd\n",
    "import math as mp\n",
    "import scipy.integrate as sp\n",
    "import matplotlib.pyplot as plt\n",
    "import matplotlib as mpl\n",
    "from mpl_toolkits.mplot3d import Axes3D\n",
    "from scipy.spatial import ConvexHull\n",
    "from scipy.spatial import Delaunay"
   ]
  },
  {
   "cell_type": "markdown",
   "metadata": {},
   "source": [
    "Alcuni parametri di riferimento utilizzati in questo notebook sono stati presi dalla seguente tabella:\n",
    "\n",
    "![Parametri](Img/TabellaParametri.jpg)"
   ]
  },
  {
   "cell_type": "code",
   "execution_count": 222,
   "metadata": {},
   "outputs": [],
   "source": [
    "steps         =  5\n",
    "birds         = 100\n",
    "B1            =  0.5\n",
    "H             =  0.1\n",
    "ndim          =  3\n",
    "\n",
    "mult= 1\n",
    "alpha         = 1.44 * mult\n",
    "beta          =  0.01 * mult\n",
    "\n",
    "\n",
    "#Variabili utili nel programma\n",
    "C             =  0.003\n",
    "D3            =  0.0015\n",
    "E3            =  0.0003\n",
    "D0            =  1\n",
    "E0            =  1\n",
    "P1            =  0.1\n",
    "D1            =  5\n",
    "E1            =  2.5\n",
    "S1            =  1.047\n",
    "S2            =  1.57\n",
    "init_vel_max  = 18\n",
    "init_vel_min  = 10\n",
    "init_radius   = 50\n",
    "\n",
    "x_upper_bound = birds * ndim\n",
    "v_lower_bound = x_upper_bound\n",
    "v_upper_bound = 2 * birds * ndim\n",
    "\n",
    "R_range       = 1.2\n",
    "R_force       = H * 3\n",
    "\n",
    "time_values = np.zeros((steps))\n",
    "for i in range (steps):\n",
    "    time_values[i] = i\n",
    "\n",
    "init_phase_space = np.zeros((birds * 2 * ndim))"
   ]
  },
  {
   "cell_type": "markdown",
   "metadata": {},
   "source": [
    "Funzioni utili a recuperare la posizione e la velocità di un uccello di una singola dimensione (x, y o z)"
   ]
  },
  {
   "cell_type": "code",
   "execution_count": 223,
   "metadata": {},
   "outputs": [],
   "source": [
    "def get_pos(bird_set, i, k):\n",
    "    return bird_set[i * ndim + k]\n",
    "\n",
    "def get_vel(bird_set, i, k):\n",
    "    return bird_set[v_lower_bound + i * ndim + k]"
   ]
  },
  {
   "cell_type": "markdown",
   "metadata": {},
   "source": [
    "Funzioni che permettono di calcolare il modulo della differenze delle posizione e delle velocità di una coppia di uccelli"
   ]
  },
  {
   "cell_type": "code",
   "execution_count": 224,
   "metadata": {},
   "outputs": [],
   "source": [
    "def pos_diff_norm(bird_set, i, j):\n",
    "    somma = 0\n",
    "    for k in range(ndim):\n",
    "        somma += (get_pos(bird_set, i, k) - get_pos(bird_set, j, k)) ** 2\n",
    "    somma = mp.sqrt(somma)\n",
    "    return somma\n",
    "\n",
    "def vel_diff_norm(bird_set, i, j):\n",
    "    somma = 0\n",
    "    for k in range(ndim):\n",
    "        somma += (get_vel(bird_set, i, k) - get_vel(bird_set, j, k)) ** 2\n",
    "    somma = mp.sqrt(somma)\n",
    "    return somma"
   ]
  },
  {
   "cell_type": "markdown",
   "metadata": {},
   "source": [
    "Calcolo dell'attrattività A seguendo la formula del Cucker-Smale classico:\n",
    "\n",
    "![Formula.png](Img/classico1.jpg)\n",
    "![Formula.png](Img/classico2.jpg)"
   ]
  },
  {
   "cell_type": "code",
   "execution_count": 225,
   "metadata": {},
   "outputs": [],
   "source": [
    "def Aij(bird_set, i, j):\n",
    "    return H / (pow(1 + pow(pos_diff_norm(bird_set, i, j), 2), B1))"
   ]
  },
  {
   "cell_type": "code",
   "execution_count": 226,
   "metadata": {},
   "outputs": [],
   "source": [
    "def A(bird_set, i, j, k):\n",
    "    v_jk = get_vel(bird_set, j, k)\n",
    "    v_ik = get_vel(bird_set, i, k)\n",
    "    return Aij(bird_set, i, j) * (v_jk - v_ik)"
   ]
  },
  {
   "cell_type": "code",
   "execution_count": 227,
   "metadata": {},
   "outputs": [],
   "source": [
    "def R(bird_set, i, j, k):\n",
    "    x_ik = get_pos(bird_set, i, k)\n",
    "    x_jk = get_pos(bird_set, j, k)\n",
    "    \n",
    "    norm = pos_diff_norm(bird_set, i, j)\n",
    "    cut = cutoff(norm, 0, R_range)\n",
    "    \n",
    "    if cut == 0:\n",
    "        return 0\n",
    "    else: \n",
    "        return R_force * cut * (x_ik - x_jk) / norm"
   ]
  },
  {
   "cell_type": "markdown",
   "metadata": {},
   "source": [
    "Funzione rho utilizzata nel Cucker-Smale ridefinito per il calcolo di B:\n",
    "\n",
    "![Rho.png](Img/rho.jpg)"
   ]
  },
  {
   "cell_type": "code",
   "execution_count": 228,
   "metadata": {},
   "outputs": [],
   "source": [
    "def rho(bird_set, i):\n",
    "    somma = 0\n",
    "    for j in range(birds):\n",
    "        somma += 1 / (1 + pos_diff_norm(bird_set, i, j) ** 2)\n",
    "    return somma / birds"
   ]
  },
  {
   "cell_type": "markdown",
   "metadata": {},
   "source": [
    "Funzione cutoff del Cucker-Smale ridefinito:\n",
    "\n",
    "![Cutoff.png](Img/CutOff.jpg)"
   ]
  },
  {
   "cell_type": "code",
   "execution_count": 229,
   "metadata": {},
   "outputs": [],
   "source": [
    "#Funzione cutoff per S0, S1, S2 e S3\n",
    "def cutoff(x, d, e):\n",
    "    if x <= d:\n",
    "        return 1\n",
    "    elif x < (d + e):\n",
    "        return 0.5 + 0.5 * np.tanh((1 / (x - d)) + (1 / (x - (d + e))))\n",
    "    else:\n",
    "        return 0"
   ]
  },
  {
   "cell_type": "markdown",
   "metadata": {},
   "source": [
    "Calcolo B come da articolo di riferimento:\n",
    "\n",
    "![B.png](Img/B.jpg)"
   ]
  },
  {
   "cell_type": "code",
   "execution_count": 230,
   "metadata": {},
   "outputs": [],
   "source": [
    "def B(bird_set, i, k):\n",
    "    return C * cutoff(rho(bird_set, i), D3, E3) * cross_product(bird_set, i ,k)"
   ]
  },
  {
   "cell_type": "markdown",
   "metadata": {},
   "source": [
    "Funzione per calcolare il prodotto vettoriale, componente per componente"
   ]
  },
  {
   "cell_type": "code",
   "execution_count": 231,
   "metadata": {},
   "outputs": [],
   "source": [
    "def levi_civita(i, j, k):\n",
    "    if ((i == 1 and j == 2 and k == 3) or\n",
    "        (i == 2 and j == 3 and k == 1) or\n",
    "        (i == 3 and j == 1 and k == 2)):\n",
    "        return 1\n",
    "    elif ((i == 3 and j == 2 and i == 1) or\n",
    "         (i == 1 and j == 3 and k == 2) or\n",
    "         (i == 2 and j == 1 and k == 3)):\n",
    "        return -1\n",
    "    else:\n",
    "        return 0"
   ]
  },
  {
   "cell_type": "code",
   "execution_count": 232,
   "metadata": {},
   "outputs": [],
   "source": [
    "def cross_product(bird_set, i, k):\n",
    "    somma = 0\n",
    "    down = [0, 0, -1]\n",
    "\n",
    "    for i_k in range(ndim):\n",
    "        for down_k in range(ndim):\n",
    "            somma += levi_civita(k, i_k, down_k) * get_vel(bird_set, i, i_k) * down[down_k]\n",
    "    return somma"
   ]
  },
  {
   "cell_type": "markdown",
   "metadata": {},
   "source": [
    "Funzione per calcolare il coefficiente di attrito del Cucker-Smale ridefinito:\n",
    "\n",
    "![Attrito.png](Img/attrito.jpg)"
   ]
  },
  {
   "cell_type": "code",
   "execution_count": 233,
   "metadata": {},
   "outputs": [],
   "source": [
    "def friction(bird_set, i, k):\n",
    "    v_ik = get_vel(bird_set, i, k)\n",
    "    somma = 0\n",
    "    \n",
    "    for l in range (ndim):\n",
    "        somma += get_vel(bird_set, i, l) ** 2\n",
    "    v_norm = mp.sqrt(somma)\n",
    "    return (alpha - beta * v_norm ** 2) * v_ik"
   ]
  },
  {
   "cell_type": "markdown",
   "metadata": {},
   "source": [
    "Esegue la formula del Cucker-Smale ridefinito:\n",
    "\n",
    "![Formula.png](Img/FormulaCucker.jpg)"
   ]
  },
  {
   "cell_type": "markdown",
   "metadata": {},
   "source": [
    "La funzione calcola il Cucker-Smale ridefinito, ma utilizza un unico vettore unidimensionale contententi tutte le posizioni e tutte le velocità degli uccelli per ogni dimensione per favorire il funzionamento della funzione *Runge-Kutta*."
   ]
  },
  {
   "cell_type": "code",
   "execution_count": 234,
   "metadata": {},
   "outputs": [],
   "source": [
    "def rhs_equation(t, phase_space):\n",
    "    vett = np.zeros(birds * 2 * ndim)    \n",
    "    \n",
    "    #equazioni differenziali delle posizioni\n",
    "    for i in range (birds):\n",
    "        x_i = i * ndim\n",
    "        for k in range(ndim):\n",
    "            vett[x_i + k] = get_vel(phase_space, i, k)\n",
    "    \n",
    "    #equazioni differenziali delle velocità\n",
    "    for i in range (birds):\n",
    "        v_i = v_lower_bound + ndim * i\n",
    "        somma = np.zeros((ndim))\n",
    "        \n",
    "        for k in range (ndim):\n",
    "            for j in range (birds):\n",
    "                if j != i:\n",
    "                    somma[k] += A(phase_space, i, j, k) + R(phase_space, i, j, k)\n",
    "            somma[k] += B(phase_space, i, k) + friction(phase_space, i, k)\n",
    "            vett[v_i + k] = somma[k]\n",
    "            \n",
    "    return vett"
   ]
  },
  {
   "cell_type": "markdown",
   "metadata": {},
   "source": [
    "Inizializzazione delle velocità iniziali e delle posizioni iniziali con coordinate sferiche."
   ]
  },
  {
   "cell_type": "code",
   "execution_count": 235,
   "metadata": {},
   "outputs": [],
   "source": [
    "rd.seed()\n",
    "\n",
    "#inizializzo le posizioni\n",
    "for i in range (birds):\n",
    "    x_i = ndim * i\n",
    "    theta_x = rd.random() * mp.pi\n",
    "    phi_x = rd.random() * 2 * mp.pi\n",
    "    r = rd.random() * init_radius\n",
    "    \n",
    "    init_phase_space[x_i + 0]= r * mp.cos(phi_x) * mp.sin(theta_x)\n",
    "    init_phase_space[x_i + 1]= r * mp.sin(phi_x) * mp.sin(theta_x)\n",
    "    init_phase_space[x_i + 2]= r * mp.cos(theta_x)\n",
    "\n",
    "#inizializzo le velocità\n",
    "for i in range (birds):\n",
    "    v_i = v_lower_bound + ndim * i\n",
    "    theta_v = rd.random() * mp.pi\n",
    "    phi_v = rd.random() * 2 * mp.pi\n",
    "    v = rd.random() * (init_vel_max - init_vel_min) + init_vel_min\n",
    "    \n",
    "    init_phase_space[v_i + 0]= v * mp.cos(phi_v) * mp.sin(theta_v)\n",
    "    init_phase_space[v_i + 1]= v * mp.sin(phi_v) * mp.sin(theta_v)\n",
    "    init_phase_space[v_i + 2]= v * mp.cos(theta_v)"
   ]
  },
  {
   "cell_type": "markdown",
   "metadata": {},
   "source": [
    "Chiamata al metodo *Runge-Kutta* di ordine 4 *RK45*.\n",
    "\n",
    "Parametri:\n",
    "\n",
    "fun    : Funzione per il calcolo *Cucker-Smale*;\n",
    "\n",
    "y0     : Vettore unidimensionale con velocità e posizioni inizializzate;\n",
    "\n",
    "t_span : Tempo minimo e massimo"
   ]
  },
  {
   "cell_type": "code",
   "execution_count": 236,
   "metadata": {
    "scrolled": false
   },
   "outputs": [
    {
     "name": "stdout",
     "output_type": "stream",
     "text": [
      "done\n"
     ]
    }
   ],
   "source": [
    "solution = sp.solve_ivp(fun = rhs_equation, y0 = init_phase_space, t_span = (0, steps), rtol=0.001)\n",
    "\n",
    "print(\"done\")"
   ]
  },
  {
   "cell_type": "markdown",
   "metadata": {},
   "source": [
    "Salvataggio delle posizioni, velocità e tempo in un file di testo."
   ]
  },
  {
   "cell_type": "code",
   "execution_count": 237,
   "metadata": {
    "scrolled": false
   },
   "outputs": [
    {
     "data": {
      "image/png": "[encoded data removed]",
      "text/plain": [
       "<Figure size 432x288 with 1 Axes>"
      ]
     },
     "metadata": {
      "needs_background": "light"
     },
     "output_type": "display_data"
    }
   ],
   "source": [
    "pos = solution.y[ :x_upper_bound]\n",
    "vel = solution.y[v_lower_bound: ]\n",
    "times = solution.t\n",
    "\n",
    "#Converto in array 3D\n",
    "vel = vel.reshape((birds, ndim, len(times)))\n",
    "pos = pos.reshape((birds, ndim, len(times)))\n",
    "\n",
    "vel = np.round(vel, 5)\n",
    "pos = np.round(pos, 5)\n",
    "times = np.round(times, 5)\n",
    "\n",
    "file = open(f\"ridefinito birds={birds} times={times.size} b={B1}.txt\", \"w+\")\n",
    "file.write(\"Num.\\tVelx\\tVely\\tVelz\\tPosx\\tPosy\\tPosz\\tTimes\\tStep\\n\")\n",
    "\n",
    "ucc = 0\n",
    "t = 0\n",
    "for i in range(times.size * birds):\n",
    "    file.write(str(ucc) + \"\\t\" + str(vel[ucc][0][t]) + \"\\t\" + str(vel[ucc][1][t]) + \"\\t\" + str(vel[ucc][2][t]) + \n",
    "               \"\\t\" + str(pos[ucc][0][t]) + \"\\t\" + str(pos[ucc][1][t]) + \"\\t\" + str(pos[ucc][2][t]) + \n",
    "               \"\\t\" + str(times[t]) + \"\\t\" + str(t) + \"\\n\")\n",
    "    ucc += 1\n",
    "    if ucc == birds:\n",
    "        ucc = 0\n",
    "        t += 1     \n",
    "\n",
    "file.close()\n",
    "\n",
    "norm_vel = np.zeros((birds, len(times)))\n",
    "for i in range(birds):\n",
    "    for t in range(len(times)):\n",
    "        norm_vel[i, t] = np.linalg.norm(vel[i, :, t])\n",
    "   \n",
    "for i in range(birds):\n",
    "    plt.plot(times, norm_vel[i,:])"
   ]
  },
  {
   "cell_type": "markdown",
   "metadata": {},
   "source": [
    "Per una più veloce esecuzione della simulazione, le velocità e le posizioni ad ogni instante di tempo vengono calcolate in un Cucker-Smale ridefinito senza scatola al fine anche di evitare i possibili effetti dei bordi. I risultati ottenuti verranno salvati in file di testo in modo tale da poter eseguire successivamente i calcoli e grafici."
   ]
  },
  {
   "cell_type": "code",
   "execution_count": null,
   "metadata": {},
   "outputs": [],
   "source": []
  }
 ],
 "metadata": {
  "kernelspec": {
   "display_name": "Python 3 (ipykernel)",
   "language": "python",
   "name": "python3"
  },
  "language_info": {
   "codemirror_mode": {
    "name": "ipython",
    "version": 3
   },
   "file_extension": ".py",
   "mimetype": "text/x-python",
   "name": "python",
   "nbconvert_exporter": "python",
   "pygments_lexer": "ipython3",
   "version": "3.8.10"
  }
 },
 "nbformat": 4,
 "nbformat_minor": 4
}
