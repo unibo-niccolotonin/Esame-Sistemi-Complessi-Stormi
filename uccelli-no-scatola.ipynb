{
 "cells": [
  {
   "cell_type": "code",
   "execution_count": 173,
   "metadata": {},
   "outputs": [],
   "source": [
    "import numpy as np\n",
    "import random as rd\n",
    "import math as mp\n",
    "import scipy.integrate as sp\n",
    "import matplotlib.pyplot as plt\n",
    "import matplotlib as mpl\n",
    "from mpl_toolkits.mplot3d import Axes3D\n",
    "from scipy.spatial import ConvexHull\n",
    "from scipy.spatial import Delaunay"
   ]
  },
  {
   "cell_type": "code",
   "execution_count": 174,
   "metadata": {},
   "outputs": [],
   "source": [
    "steps=5\n",
    "birds=50\n",
    "B1=0.5\n",
    "H=0.1\n",
    "ndim=3\n",
    "\n",
    "repulsion_range = 1.2\n",
    "repulsion_force = H * 3\n",
    "\n",
    "#Variabili utili nel programma\n",
    "C=0.003\n",
    "D3=0.0015\n",
    "E3=0.0003\n",
    "D0=1\n",
    "E0=1\n",
    "P1=0.1\n",
    "D1=5\n",
    "E1=2.5\n",
    "S1=1.047\n",
    "S2=1.57\n",
    "\n",
    "alpha=14.4\n",
    "beta=0.1\n",
    "\n",
    "init_vel_max = 18\n",
    "init_vel_min = 10\n",
    "init_radius = 50\n",
    "\n",
    "x_upper_bound = birds * ndim\n",
    "v_lower_bound = x_upper_bound\n",
    "v_upper_bound = 2 * birds * ndim\n",
    "\n",
    "time_values = np.zeros((steps))\n",
    "for i in range (steps):\n",
    "    time_values[i] = i\n",
    "\n",
    "init_phase_space = np.zeros((birds * 2 * ndim))"
   ]
  },
  {
   "cell_type": "code",
   "execution_count": 175,
   "metadata": {},
   "outputs": [],
   "source": [
    "def get_pos(bird_set, i, k):\n",
    "    return bird_set[i*ndim + k]\n",
    "\n",
    "def get_vel(bird_set, i, k):\n",
    "    return bird_set[v_lower_bound + i*ndim + k]"
   ]
  },
  {
   "cell_type": "code",
   "execution_count": 176,
   "metadata": {},
   "outputs": [],
   "source": [
    "def pos_diff_norm(bird_set, i, j):\n",
    "    somma=0\n",
    "    for k in range(ndim):\n",
    "        somma += (get_pos(bird_set, i, k) - get_pos(bird_set, j, k))**2\n",
    "    somma = mp.sqrt(somma)\n",
    "    return somma\n",
    "\n",
    "def vel_diff_norm(bird_set, i, j):\n",
    "    somma=0\n",
    "    for k in range(ndim):\n",
    "        somma += (get_vel(bird_set, i, k) - get_vel(bird_set, j, k))**2\n",
    "    somma = mp.sqrt(somma)\n",
    "    return somma"
   ]
  },
  {
   "cell_type": "code",
   "execution_count": 177,
   "metadata": {},
   "outputs": [],
   "source": [
    "def Aij(bird_set, i, j):\n",
    "    return H / (pow(1 + pow(vel_diff_norm(bird_set, i, j), 2), B1))"
   ]
  },
  {
   "cell_type": "code",
   "execution_count": 178,
   "metadata": {},
   "outputs": [],
   "source": [
    "def A(bird_set, i, j, k):\n",
    "    v_jk = get_vel(bird_set, j, k)\n",
    "    v_ik = get_vel(bird_set, i, k)\n",
    "    \n",
    "    return Aij(bird_set, i, j) * (v_jk - v_ik)"
   ]
  },
  {
   "cell_type": "code",
   "execution_count": 179,
   "metadata": {},
   "outputs": [],
   "source": [
    "def rho(bird_set, i):\n",
    "    somma = 0\n",
    "    for j in range (birds):\n",
    "        somma += 1/(1 + pos_diff_norm(bird_set, i, j) ** 2)\n",
    "    return somma / birds"
   ]
  },
  {
   "cell_type": "code",
   "execution_count": 180,
   "metadata": {},
   "outputs": [],
   "source": [
    "def levi_civita(i, j, k):\n",
    "    if ((i == 1 and j == 2 and k == 3) or\n",
    "        (i == 2 and j == 3 and k == 1) or\n",
    "        (i == 3 and j == 1 and k == 2)):\n",
    "        return 1\n",
    "    elif ((i == 3 and j == 2 and i == 1) or\n",
    "         (i == 1 and j == 3 and k == 2) or\n",
    "         (i == 2 and j == 1 and k == 3)):\n",
    "        return -1\n",
    "    else:\n",
    "        return 0"
   ]
  },
  {
   "cell_type": "code",
   "execution_count": 181,
   "metadata": {},
   "outputs": [],
   "source": [
    "def cross_product(bird_set, i, k):\n",
    "    somma = 0\n",
    "    down = [0, 0, -1]\n",
    "\n",
    "    for i_k in range(ndim):\n",
    "        for down_k in range(ndim):\n",
    "            somma += levi_civita(k, i_k, down_k) * get_vel(bird_set, i, i_k) * down[down_k]\n",
    "    return somma"
   ]
  },
  {
   "cell_type": "code",
   "execution_count": 182,
   "metadata": {},
   "outputs": [],
   "source": [
    "def B(bird_set, i, k):\n",
    "    return C * cutoff(rho(bird_set, i),D3, E3) * cross_product(bird_set, i ,k)"
   ]
  },
  {
   "cell_type": "code",
   "execution_count": 183,
   "metadata": {},
   "outputs": [],
   "source": [
    "def R(bird_set, i, j, k):\n",
    "    x_ik = get_pos(bird_set, i, k)\n",
    "    x_jk = get_pos(bird_set, j, k)\n",
    "    \n",
    "    norm = pos_diff_norm(bird_set, i, j)\n",
    "    \n",
    "    cut = cutoff(norm, 0, repulsion_range)\n",
    "    \n",
    "    if cut == 0:\n",
    "        return 0\n",
    "    else: \n",
    "        return repulsion_force * cut * (x_ik - x_jk) / norm"
   ]
  },
  {
   "cell_type": "code",
   "execution_count": 184,
   "metadata": {},
   "outputs": [],
   "source": [
    "def friction(bird_set, i, k):\n",
    "    v_ik = get_vel(bird_set, i, k)\n",
    "    somma = 0\n",
    "    for l in range (ndim):\n",
    "        somma+= get_vel(bird_set,i, l)**2\n",
    "    v_norm = mp.sqrt(somma)\n",
    "    \n",
    "    return (alpha - beta * v_norm **2)* v_ik"
   ]
  },
  {
   "cell_type": "code",
   "execution_count": 185,
   "metadata": {},
   "outputs": [],
   "source": [
    "def rhs_equation(t, phase_space):\n",
    "    vett = np.zeros(birds * 2 * ndim)    \n",
    "    \n",
    "    #equazioni differenziali delle posizioni\n",
    "    for i in range (birds):\n",
    "        x_i = i*ndim\n",
    "        for k in range(ndim):\n",
    "            vett[x_i + k] = get_vel(phase_space, i, k)\n",
    "    \n",
    "    #equazioni differenziali delle velocità\n",
    "    for i in range (birds):\n",
    "        v_i = v_lower_bound + ndim * i\n",
    "        \n",
    "        somma = np.zeros((ndim))\n",
    "        #somma per ogni componente di i\n",
    "        \n",
    "        for k in range (ndim):\n",
    "            for j in range (birds):\n",
    "                    if(j!=i):\n",
    "                        somma[k] += A(phase_space, i, j, k) + R(phase_space, i, j, k)\n",
    "                \n",
    "            somma[k] += B(phase_space, i, k) + friction(phase_space, i, k)\n",
    "            vett[v_i + k] = somma[k]\n",
    "    return vett"
   ]
  },
  {
   "cell_type": "code",
   "execution_count": 186,
   "metadata": {},
   "outputs": [],
   "source": [
    "#Funzione cutoff per S0 e S1\n",
    "def cutoff(x,d,e):\n",
    "    if x <= d:\n",
    "        return 1\n",
    "    elif x < (d + e):\n",
    "        return 0.5+0.5*np.tanh((1/(x-d))+(1/(x-(d+e))))\n",
    "    else:\n",
    "        return 0"
   ]
  },
  {
   "cell_type": "code",
   "execution_count": 187,
   "metadata": {},
   "outputs": [],
   "source": [
    "#Calcolo w per la velocità come da articolo\n",
    "def w(x,y,v):\n",
    "    w1=Y1/pow(1+pow(np.linalg.norm(x-y),2),B1)\n",
    "    w2=cutoff(np.linalg.norm(v),D1,E1)\n",
    "    w3=(1-w2)\n",
    "    w4=(np.dot((y-x),v))/((np.linalg.norm(y-x)*np.linalg.norm(v))) \n",
    "    w5=(1-cutoff(w4,np.cos(S2),np.cos(S1) - np.cos(S2))) #correzione messo coseno al posto dell'angolo\n",
    "    return w1*(w2+w3*w5)"
   ]
  },
  {
   "cell_type": "code",
   "execution_count": 188,
   "metadata": {},
   "outputs": [],
   "source": [
    "rd.seed()\n",
    "\n",
    "#inizializzo le posizioni\n",
    "for i in range (birds):\n",
    "    x_i = ndim * i\n",
    "    theta_x = rd.random() * mp.pi\n",
    "    phi_x = rd.random() * 2 * mp.pi\n",
    "    r = rd.random() * init_radius\n",
    "    \n",
    "    init_phase_space[x_i + 0]= r * mp.cos(phi_x) * mp.sin(theta_x)\n",
    "    init_phase_space[x_i + 1]= r * mp.sin(phi_x) * mp.sin(theta_x)\n",
    "    init_phase_space[x_i + 2]= r * mp.cos(theta_x)\n",
    "\n",
    "#inizializzo le velocità\n",
    "for i in range (birds):\n",
    "    v_i = v_lower_bound + ndim * i\n",
    "    theta_v = rd.random() * mp.pi\n",
    "    phi_v = rd.random() * 2 * mp.pi\n",
    "    v = rd.random() * (init_vel_max - init_vel_min) + init_vel_min\n",
    "    \n",
    "    init_phase_space[v_i + 0]= v * mp.cos(phi_v) * mp.sin(theta_v)\n",
    "    init_phase_space[v_i + 1]= v * mp.sin(phi_v) * mp.sin(theta_v)\n",
    "    init_phase_space[v_i + 2]= v * mp.cos(theta_v)\n",
    "\n",
    "#print (init_phase_space.reshape(2, birds, ndim))"
   ]
  },
  {
   "cell_type": "code",
   "execution_count": 189,
   "metadata": {
    "scrolled": true
   },
   "outputs": [
    {
     "name": "stdout",
     "output_type": "stream",
     "text": [
      "done\n"
     ]
    }
   ],
   "source": [
    "solution = sp.solve_ivp(fun=rhs_equation,y0 = init_phase_space, t_span=(0,steps))\n",
    "print(\"done\")"
   ]
  },
  {
   "cell_type": "code",
   "execution_count": 190,
   "metadata": {
    "scrolled": true
   },
   "outputs": [
    {
     "data": {
      "image/png": "[encoded data removed]",
      "text/plain": [
       "<Figure size 432x288 with 1 Axes>"
      ]
     },
     "metadata": {
      "needs_background": "light"
     },
     "output_type": "display_data"
    }
   ],
   "source": [
    "pos = solution.y[ : x_upper_bound]\n",
    "vel = solution.y[v_lower_bound : ]\n",
    "times = solution.t\n",
    "\n",
    "#Converto in array 3D\n",
    "vel = vel.reshape((birds, ndim, len(times)))\n",
    "pos = pos.reshape((birds, ndim, len(times)))\n",
    "\n",
    "vel = np.round(vel, 5)\n",
    "pos = np.round(pos, 5)\n",
    "times = np.round(times, 5)\n",
    "\n",
    "file = open(f\" ridefinito birds={birds} times={times.size} b={B1}.txt\", \"w+\")\n",
    "file.write(\"Num.\\tVelx\\tVely\\tVelz\\tPosx\\tPosy\\tPosz\\tTimes\\tStep\\n\")\n",
    "\n",
    "ucc = 0\n",
    "t = 0\n",
    "for i in range(times.size * birds):\n",
    "    file.write(str(ucc) + \"\\t\" + str(vel[ucc][0][t]) + \"\\t\" + str(vel[ucc][1][t]) + \"\\t\" + str(vel[ucc][2][t]) + \n",
    "               \"\\t\" + str(pos[ucc][0][t]) + \"\\t\" + str(pos[ucc][1][t]) + \"\\t\" + str(pos[ucc][2][t]) + \n",
    "               \"\\t\" + str(times[t]) + \"\\t\" + str(t) + \"\\n\")\n",
    "    ucc += 1\n",
    "    if ucc == birds:\n",
    "        ucc = 0\n",
    "        t += 1     \n",
    "\n",
    "norm_vel = np.zeros((birds, len(times)))\n",
    "for i in range(birds):\n",
    "    for t in range(len(times)):\n",
    "        norm_vel[i, t] = np.linalg.norm(vel[i, :, t])\n",
    "   \n",
    "for i in range(birds):\n",
    "    plt.plot(times, norm_vel[i,:])\n",
    "\n",
    "file.close()"
   ]
  },
  {
   "cell_type": "code",
   "execution_count": null,
   "metadata": {},
   "outputs": [],
   "source": []
  }
 ],
 "metadata": {
  "kernelspec": {
   "display_name": "Python 3 (ipykernel)",
   "language": "python",
   "name": "python3"
  },
  "language_info": {
   "codemirror_mode": {
    "name": "ipython",
    "version": 3
   },
   "file_extension": ".py",
   "mimetype": "text/x-python",
   "name": "python",
   "nbconvert_exporter": "python",
   "pygments_lexer": "ipython3",
   "version": "3.8.10"
  }
 },
 "nbformat": 4,
 "nbformat_minor": 4
}
