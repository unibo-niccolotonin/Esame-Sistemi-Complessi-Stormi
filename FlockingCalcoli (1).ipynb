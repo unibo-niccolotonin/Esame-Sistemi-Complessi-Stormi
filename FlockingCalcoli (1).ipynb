{
 "cells": [
  {
   "cell_type": "code",
   "execution_count": 24,
   "metadata": {},
   "outputs": [],
   "source": [
    "import numpy as np\n",
    "import random as rd\n",
    "import math as mp\n",
    "import matplotlib.pyplot as plt\n",
    "import matplotlib as mpl\n",
    "from mpl_toolkits.mplot3d import Axes3D\n",
    "from scipy.spatial import ConvexHull\n",
    "from scipy.spatial import Delaunay\n",
    "import csv"
   ]
  },
  {
   "cell_type": "markdown",
   "metadata": {},
   "source": [
    "Qui di seguito vengono riportati vari calcoli fisici-matematici eseguiti sul modello Cucker-Smale ridimensionato senza la scatola"
   ]
  },
  {
   "cell_type": "code",
   "execution_count": 120,
   "metadata": {},
   "outputs": [],
   "source": [
    "steps=1000\n",
    "birds=100\n",
    "ndim=3\n",
    "timestep=0.001\n",
    "step= 99899\n",
    "\n",
    "#Variabili utili nel programma\n",
    "C=0.003\n",
    "D3=0.0015\n",
    "E3=0.0003\n",
    "B1=0.5\n",
    "D0=1\n",
    "E0=1\n",
    "P1=10\n",
    "Y1=10\n",
    "D1=0.5\n",
    "E1=0.5\n",
    "S1=1.047\n",
    "S2=1.57\n",
    "alpha=1\n",
    "beta=1"
   ]
  },
  {
   "cell_type": "code",
   "execution_count": 14,
   "metadata": {},
   "outputs": [],
   "source": [
    "#Inizializzazione vettori posizioni e velocità\n",
    "pos=np.zeros((birds,ndim))\n",
    "vel=np.zeros((birds,ndim))"
   ]
  },
  {
   "cell_type": "code",
   "execution_count": 15,
   "metadata": {},
   "outputs": [],
   "source": [
    "#Generazione random di posizioni e velocità iniziali\n",
    "for i in range (birds):\n",
    "    pos[i][0]=rd.randint(0,birds-1)\n",
    "    pos[i][1]=rd.randint(0,birds-1)\n",
    "    pos[i][2]=rd.randint(0,birds-1)\n",
    "    vel[i][0]=rd.randint(1,birds-1)/100\n",
    "    vel[i][1]=rd.randint(1,birds-1)/100\n",
    "    vel[i][2]=rd.randint(1,birds-1)/100"
   ]
  },
  {
   "cell_type": "code",
   "execution_count": 16,
   "metadata": {},
   "outputs": [],
   "source": [
    "#Funzione cutoff per S0 e S1\n",
    "def cutoff(x,d,e):\n",
    "    if x <= d:\n",
    "        return 1\n",
    "    elif x < (d + e):\n",
    "        return 0.5+0.5*np.tan((1/(x-d))+(1/(x-(d+e))))\n",
    "    else:\n",
    "        return 0"
   ]
  },
  {
   "cell_type": "code",
   "execution_count": 17,
   "metadata": {},
   "outputs": [],
   "source": [
    "#Calcolo w per la velocità come da articolo\n",
    "def w(x,y,v):\n",
    "    w1=Y1/pow(1+pow(np.linalg.norm(x-y),2),B1)\n",
    "    w2=cutoff(np.linalg.norm(v),D1,E1)\n",
    "    w3=(1-w2)\n",
    "    w4=(np.dot((y-x),v))/((np.linalg.norm(y-x)*np.linalg.norm(v))) \n",
    "    w5=(1-cutoff(w4,np.cos(S2),np.cos(S1))) \n",
    "    return w1*(w2+w3*w5)"
   ]
  },
  {
   "cell_type": "code",
   "execution_count": null,
   "metadata": {},
   "outputs": [],
   "source": [
    "#Applico formula Cucker-Smale e calcolo A,R,B e coefficiente di attrito e scrivo i risultati su un file di testo\n",
    "for k in range (steps):\n",
    "        N=1/(birds)\n",
    "        N2=P1/(birds)\n",
    "        N3=1/(birds)\n",
    "        \n",
    "        for i in range (birds):\n",
    "            somma=0\n",
    "            somma2=0\n",
    "            somma3=0\n",
    "            \n",
    "            #A\n",
    "            for j in range (birds):\n",
    "                if i != j:\n",
    "                    t1=(1-cutoff(np.linalg.norm(pos[i]-pos[j]),D0,E0))\n",
    "                    t3=w(pos[i],pos[j],vel[i])\n",
    "                    t4=(vel[j]-vel[i])\n",
    "                    t = t1*t3*t4\n",
    "                    somma=somma+t\n",
    "            v1=N*somma\n",
    "            \n",
    "            #R\n",
    "            for j in range (birds):\n",
    "                if i != j:\n",
    "                    d1=cutoff(np.linalg.norm(pos[i]-pos[j]),D0,E0)\n",
    "                    d2=(pos[i]-pos[j])/(pow(1+pow(np.linalg.norm(pos[i]-pos[j]),2),B1))\n",
    "                    d=d1*d2\n",
    "                    somma2=somma2+d\n",
    "            v2=N2*somma2 \n",
    "        \n",
    "            #B\n",
    "            K=np.array([0,0,-1])\n",
    "            for j in range (birds):\n",
    "                if i != j:\n",
    "                    d3=1/(1+pow(np.linalg.norm(pos[i]-pos[j]),2))\n",
    "                    somma3=somma3+d3\n",
    "            pv3=N3*somma3\n",
    "            v3=C*cutoff(pv3,D3,E3)*np.cross(vel[i],K)\n",
    "                \n",
    "            #Attrito    \n",
    "            v4 = ((alpha-beta*pow(np.linalg.norm(vel[i]),2))*vel[i])\n",
    "            \n",
    "            vel[i]+= (v1 + v2 + v3 + v4)*timestep\n",
    "            pos[i]+= vel[i]*timestep\n",
    "            \n",
    "            vel3D = open(\"Vel3D100.txt\", \"a+\")\n",
    "            pos3D = open(\"Pos3D100.txt\", \"a+\")\n",
    "            vel3D.write(str(vel[i][0]) + \" \" + str(vel[i][1]) + \" \" + str(vel[i][2]) + \"\\n\")\n",
    "            pos3D.write(str(pos[i][0]) + \" \" + str(pos[i][1]) + \" \" + str(pos[i][2]) + \"\\n\")\n",
    "            vel3D.close()\n",
    "            pos3D.close()\n",
    "            \n",
    "        print(k)"
   ]
  },
  {
   "cell_type": "code",
   "execution_count": 124,
   "metadata": {},
   "outputs": [],
   "source": [
    "#Per una maggiore precisione i calcoli vengono effettuati su Cucker-Smale senza scatola\n",
    "#E riporati all'interno di file txt che vengono letti in automatico dal programma\n",
    "\n",
    "vel_file = open(\"vel3D100classico_b5.txt\")\n",
    "pos_file = open(\"pos3D100classico_b5.txt\")\n",
    "read_vel = csv.reader(vel_file, delimiter=\" \")\n",
    "read_pos = csv.reader(pos_file, delimiter=\" \")\n",
    "file_vel = []\n",
    "file_pos = []\n",
    "\n",
    "for row in read_vel:\n",
    "    file_vel.append(row)\n",
    "\n",
    "for row1 in read_pos:\n",
    "    file_pos.append(row1)\n",
    "    \n",
    "#Trasformo ciò che ho letto nei file in matrici numpy\n",
    "file_vel = np.array(file_vel,dtype=float)\n",
    "file_pos = np.array(file_pos,dtype=float)\n",
    "\n",
    "#Eseguo questo calcolo per prendere solo gli uccelli ad un certo step fissato\n",
    "cont=step\n",
    "i=0\n",
    "data_vel = np.zeros((birds, 3))\n",
    "data_pos = np.zeros((birds, 3))\n",
    "fine=cont+birds\n",
    "\n",
    "while cont < (fine):\n",
    "   data_vel[i]=file_vel[cont]\n",
    "   data_pos[i]=file_pos[cont]\n",
    "   cont+=1\n",
    "   i+=1"
   ]
  },
  {
   "cell_type": "code",
   "execution_count": 125,
   "metadata": {},
   "outputs": [
    {
     "name": "stdout",
     "output_type": "stream",
     "text": [
      "[-0. -0.  0.]\n"
     ]
    }
   ],
   "source": [
    "#Calcolo u = velocità singolo uccello - velocità media ad un certo step\n",
    "velstep=data_vel\n",
    "U=np.zeros((birds,ndim))\n",
    "VelMedia=np.mean(velstep,axis=0)\n",
    "for j in range (birds):\n",
    "    U[j] = velstep[j] - VelMedia\n",
    "        \n",
    "#controllo che u sia uguale a zero\n",
    "controll= np.round(np.sum(U,axis=0),2)\n",
    "print(controll)"
   ]
  },
  {
   "cell_type": "code",
   "execution_count": 126,
   "metadata": {},
   "outputs": [],
   "source": [
    "#Funzione delta correlazione\n",
    "def delta(sigma):\n",
    "    if sigma == 0:\n",
    "        return 1\n",
    "    else:\n",
    "        return 0\n",
    "    \n",
    "#Funzione correlazione C(r) per uno step\n",
    "def correlation(r):\n",
    "    velox=U\n",
    "    posix=data_pos\n",
    "    som=0\n",
    "    somDelta=0\n",
    "    for i in range (birds):\n",
    "        for j in range (birds):\n",
    "            if i != j:\n",
    "                modvi=np.linalg.norm(velox[i])\n",
    "                modvj=np.linalg.norm(velox[j])\n",
    "                si=velox[i]/modvi\n",
    "                sj=velox[j]/modvj\n",
    "                r1=np.round(np.linalg.norm(posix[i]-posix[j]),0)\n",
    "                delt=delta(r-r1)\n",
    "                somj=np.dot(si,sj)*delt\n",
    "                som = som + somj\n",
    "                somDelta = somDelta + delt\n",
    "    if somDelta == 0:\n",
    "        return 0\n",
    "    else:\n",
    "        return (som / somDelta)"
   ]
  },
  {
   "cell_type": "code",
   "execution_count": 128,
   "metadata": {},
   "outputs": [
    {
     "name": "stdout",
     "output_type": "stream",
     "text": [
      "0\n",
      "1\n",
      "2\n",
      "3\n",
      "4\n",
      "5\n",
      "6\n",
      "7\n",
      "8\n",
      "9\n",
      "10\n",
      "11\n",
      "12\n",
      "13\n",
      "14\n",
      "15\n",
      "16\n",
      "17\n",
      "18\n",
      "19\n",
      "20\n",
      "21\n",
      "22\n",
      "23\n",
      "24\n",
      "25\n",
      "26\n",
      "27\n",
      "28\n",
      "29\n",
      "30\n",
      "31\n",
      "32\n",
      "33\n",
      "34\n"
     ]
    },
    {
     "data": {
      "image/png": "[encoded data removed]",
      "text/plain": [
       "<Figure size 432x288 with 1 Axes>"
      ]
     },
     "metadata": {
      "needs_background": "light"
     },
     "output_type": "display_data"
    }
   ],
   "source": [
    "#Calcolo valore correlazione per ogni r dell'array \n",
    "massimo = 35\n",
    "r2 = np.arange(0,massimo,1)\n",
    "cor = []\n",
    "r = []\n",
    "for i in range (r2.size):\n",
    "    result = np.round(correlation(r2[i]),2)\n",
    "    if result != 0:\n",
    "        cor.append(result)\n",
    "        r.append(r2[i])\n",
    "    print(i)\n",
    "cor=np.array(cor)\n",
    "r=np.array(r)\n",
    "\n",
    "plt.plot(r, cor, marker = \"o\", color = 'red')\n",
    "plt.title(\"Grafico correlazione\")\n",
    "plt.xlabel(\"R\") \n",
    "plt.ylabel(\"Correlation(R)\")\n",
    "plt.show()"
   ]
  },
  {
   "cell_type": "code",
   "execution_count": 129,
   "metadata": {},
   "outputs": [
    {
     "data": {
      "image/png": "[encoded data removed]",
      "text/plain": [
       "<Figure size 432x288 with 1 Axes>"
      ]
     },
     "metadata": {
      "needs_background": "light"
     },
     "output_type": "display_data"
    }
   ],
   "source": [
    "#Rappresentazione volume ad un certo step t\n",
    "pts=data_pos\n",
    "hull = ConvexHull(pts)\n",
    "\n",
    "fig = plt.figure()\n",
    "ax = fig.add_subplot(111, projection=\"3d\")\n",
    "\n",
    "# Plot defining corner points\n",
    "ax.plot(pts.T[0], pts.T[1], pts.T[2], \"ko\")\n",
    "\n",
    "# 12 = 2 * 6 faces are the simplices (2 simplices per square face)\n",
    "for s in hull.simplices:\n",
    "    s = np.append(s, s[0])  # Here we cycle back to the first coordinate\n",
    "    ax.plot(pts[s, 0], pts[s, 1], pts[s, 2], \"r-\")\n",
    "\n",
    "# Make axis label\n",
    "for i in [\"x\", \"y\", \"z\"]:\n",
    "    eval(\"ax.set_{:s}label('{:s}')\".format(i, i))\n",
    "\n",
    "plt.show()"
   ]
  },
  {
   "cell_type": "code",
   "execution_count": 130,
   "metadata": {},
   "outputs": [
    {
     "name": "stdout",
     "output_type": "stream",
     "text": [
      "0.8996226351778761\n"
     ]
    }
   ],
   "source": [
    "#Calcolo polarizzazione come d'articolo per un certo step\n",
    "array=np.zeros((birds,ndim))\n",
    "for j in range (birds):\n",
    "    norm = np.linalg.norm(data_vel[j])\n",
    "    array[j] = data_vel[j] / norm\n",
    "pol=np.linalg.norm(np.mean(array,axis=0))\n",
    "print(pol)"
   ]
  },
  {
   "cell_type": "code",
   "execution_count": 131,
   "metadata": {},
   "outputs": [
    {
     "name": "stdout",
     "output_type": "stream",
     "text": [
      "0.10416528598845678\n"
     ]
    }
   ],
   "source": [
    "#Quantificazione dell'anisotropia dello stormo\n",
    "position=data_pos\n",
    "veloc=data_vel\n",
    "mini=200\n",
    "matrix=np.zeros((birds,3,3))\n",
    "for i in range(birds):\n",
    "    for j in range(birds):\n",
    "        if i != j:\n",
    "            val=np.linalg.norm(position[i]-position[j])\n",
    "            if val < mini:\n",
    "                j1=j\n",
    "                mini=val\n",
    "    ui=(veloc[i]/np.linalg.norm(veloc[i]))\n",
    "    uj=(veloc[j1]/np.linalg.norm(veloc[j1]))\n",
    "    matrix[i][0][0]=ui[0]*uj[0]\n",
    "    matrix[i][0][1]=ui[0]*uj[1]\n",
    "    matrix[i][0][2]=ui[0]*uj[2]\n",
    "    matrix[i][1][0]=ui[1]*uj[0]\n",
    "    matrix[i][1][1]=ui[1]*uj[1]\n",
    "    matrix[i][1][2]=ui[1]*uj[2]\n",
    "    matrix[i][2][0]=ui[2]*uj[0]\n",
    "    matrix[i][2][1]=ui[2]*uj[1]\n",
    "    matrix[i][2][2]=ui[2]*uj[2]\n",
    "    mini=200\n",
    "\n",
    "Mmedio=np.mean(matrix,axis=0)\n",
    "autovalori, autovettori = np.linalg.eig(Mmedio)\n",
    "low=min(autovalori)\n",
    "index,=np.where(autovalori==low)\n",
    "autovet=autovettori[index,:]\n",
    "gamma=pow(autovet[0][0]*VelMedia[0]+autovet[0][1]*VelMedia[1]+autovet[0][2]*VelMedia[2],2)\n",
    "print(gamma)"
   ]
  },
  {
   "cell_type": "code",
   "execution_count": 135,
   "metadata": {},
   "outputs": [],
   "source": [
    "vel_file_tot = open(\"vel3D100classico_b02.txt\")\n",
    "pos_file_tot = open(\"pos3D100classico_b02.txt\")\n",
    "read_vel_tot = csv.reader(vel_file_tot, delimiter=\" \")\n",
    "read_pos_tot = csv.reader(pos_file_tot, delimiter=\" \")\n",
    "file_vel_tot = []\n",
    "file_pos_tot = []\n",
    "\n",
    "for row in read_vel_tot:\n",
    "    file_vel_tot.append(row)\n",
    "\n",
    "for row1 in read_pos_tot:\n",
    "    file_pos_tot.append(row1)\n",
    "    \n",
    "#Trasformo ciò che ho letto nei file in matrici numpy\n",
    "file_vel_tot = np.array(file_vel_tot,dtype=float)\n",
    "file_pos_tot = np.array(file_pos_tot,dtype=float)"
   ]
  },
  {
   "cell_type": "code",
   "execution_count": 136,
   "metadata": {},
   "outputs": [],
   "source": [
    "velMedia_tot=np.linalg.norm(file_vel_tot, axis=1)\n",
    "velMedia=np.zeros((steps,birds))\n",
    "t=0\n",
    "ucc=0\n",
    "for i in range (velMedia_tot.size):\n",
    "    velMedia[t][ucc]=velMedia_tot[i]\n",
    "    ucc+=1\n",
    "    if ucc==birds:\n",
    "        ucc=0\n",
    "        t+=1    "
   ]
  },
  {
   "cell_type": "code",
   "execution_count": 161,
   "metadata": {},
   "outputs": [
    {
     "data": {
      "image/png": "[encoded data removed]",
      "text/plain": [
       "<Figure size 432x288 with 1 Axes>"
      ]
     },
     "metadata": {
      "needs_background": "light"
     },
     "output_type": "display_data"
    }
   ],
   "source": [
    "tempo=[]\n",
    "for j in range (velMedia.shape[0]):\n",
    "    tempo.append(j)\n",
    "tempo=np.array(tempo)\n",
    "\n",
    "tempo1=tempo[:10]\n",
    "velMedia1=velMedia[:10,:]\n",
    "\n",
    "plt.plot(tempo1, velMedia1, marker = \"o\", color = 'red',linewidth=1, markersize=0.11)\n",
    "plt.title(\"Grafico Mod_Vel - Tempo\")\n",
    "plt.xlabel(\"Tempo\") \n",
    "plt.ylabel(\"Modulo Velocità\")\n",
    "\n",
    "plt.show()"
   ]
  },
  {
   "cell_type": "code",
   "execution_count": null,
   "metadata": {},
   "outputs": [],
   "source": []
  }
 ],
 "metadata": {
  "kernelspec": {
   "display_name": "Python 3",
   "language": "python",
   "name": "python3"
  },
  "language_info": {
   "codemirror_mode": {
    "name": "ipython",
    "version": 3
   },
   "file_extension": ".py",
   "mimetype": "text/x-python",
   "name": "python",
   "nbconvert_exporter": "python",
   "pygments_lexer": "ipython3",
   "version": "3.8.5"
  }
 },
 "nbformat": 4,
 "nbformat_minor": 4
}
