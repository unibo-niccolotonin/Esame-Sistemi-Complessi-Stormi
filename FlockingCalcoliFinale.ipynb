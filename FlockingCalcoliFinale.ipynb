{
 "cells": [
  {
   "cell_type": "code",
   "execution_count": 1,
   "metadata": {},
   "outputs": [],
   "source": [
    "#Importo librerie utili al programma\n",
    "import numpy as np\n",
    "import random as rd\n",
    "import math as mp\n",
    "import matplotlib.pyplot as plt\n",
    "import matplotlib as mpl\n",
    "from mpl_toolkits.mplot3d import Axes3D\n",
    "from scipy.spatial import ConvexHull\n",
    "from scipy.spatial import Delaunay\n",
    "import csv\n",
    "import seaborn as sns"
   ]
  },
  {
   "cell_type": "code",
   "execution_count": 2,
   "metadata": {},
   "outputs": [],
   "source": [
    "#Variabili utili al programma\n",
    "steps=100\n",
    "birds=100\n",
    "b=0.1\n",
    "ndim=3\n",
    "view_step=99"
   ]
  },
  {
   "cell_type": "markdown",
   "metadata": {},
   "source": [
    "Quantificazione dell'anisotropia dello stormo:\n",
    "![Anisotropia](anisotropia.png)"
   ]
  },
  {
   "cell_type": "code",
   "execution_count": 3,
   "metadata": {},
   "outputs": [],
   "source": [
    "def anisotropia(vel,pos):\n",
    "    position=pos\n",
    "    veloc=vel\n",
    "    mini=200\n",
    "    matrix=np.zeros((birds,3,3))\n",
    "    for i in range(birds):\n",
    "        for j in range(birds):\n",
    "            if i != j:\n",
    "                val=np.linalg.norm(position[i]-position[j])\n",
    "                if val < mini:\n",
    "                    j1=j\n",
    "                    mini=val\n",
    "        ui=(veloc[i]/np.linalg.norm(veloc[i]))\n",
    "        uj=(veloc[j1]/np.linalg.norm(veloc[j1]))\n",
    "        matrix[i][0][0]=ui[0]*uj[0]\n",
    "        matrix[i][0][1]=ui[0]*uj[1]\n",
    "        matrix[i][0][2]=ui[0]*uj[2]\n",
    "        matrix[i][1][0]=ui[1]*uj[0]\n",
    "        matrix[i][1][1]=ui[1]*uj[1]\n",
    "        matrix[i][1][2]=ui[1]*uj[2]\n",
    "        matrix[i][2][0]=ui[2]*uj[0]\n",
    "        matrix[i][2][1]=ui[2]*uj[1]\n",
    "        matrix[i][2][2]=ui[2]*uj[2]\n",
    "        mini=200\n",
    "\n",
    "    Mmedio=np.mean(matrix,axis=0)\n",
    "    autovalori, autovettori = np.linalg.eig(Mmedio)\n",
    "    low=min(autovalori)\n",
    "    index,=np.where(autovalori==low)\n",
    "    autovet=autovettori[index,:]\n",
    "    vet=autovet/np.linalg.norm(autovet)\n",
    "    gamma=pow(vet[0][0]*VelNorm[0]+vet[0][1]*VelNorm[1]+vet[0][2]*VelNorm[2],2)\n",
    "    return gamma"
   ]
  },
  {
   "cell_type": "markdown",
   "metadata": {},
   "source": [
    "Funzioni per calcolare la velocità media, polarizzazione e recuperare la velocità e la posizione di un uccello ad uno step dato in input"
   ]
  },
  {
   "cell_type": "code",
   "execution_count": 38,
   "metadata": {},
   "outputs": [],
   "source": [
    "def vel_media_at_step(step,file_vel_tot):\n",
    "    velstep=vel_at_step(step,file_vel_tot)\n",
    "    v_mean=np.mean(velstep,axis=0)\n",
    "    return v_mean"
   ]
  },
  {
   "cell_type": "code",
   "execution_count": 39,
   "metadata": {},
   "outputs": [],
   "source": [
    "def polarization_at_step(step,file_vel_tot):\n",
    "    array=np.zeros((birds,ndim))\n",
    "    for j in range (birds):\n",
    "        norm = np.linalg.norm(vel_at_step(step,file_vel_tot)[j])\n",
    "        array[j] = vel_at_step(view_step,file_vel_tot)[j] / norm\n",
    "    pol=np.linalg.norm(np.mean(array,axis=0))\n",
    "    return pol"
   ]
  },
  {
   "cell_type": "code",
   "execution_count": 19,
   "metadata": {},
   "outputs": [],
   "source": [
    "def vel_at_step(a,file_vel_tot):\n",
    "    cont= a * birds\n",
    "    i=0\n",
    "    data_vel = np.zeros((birds, 3))\n",
    "    fine=cont+birds\n",
    "\n",
    "    while cont < (fine):\n",
    "       data_vel[i]=file_vel_tot[cont]\n",
    "       cont+=1\n",
    "       i+=1\n",
    "    return data_vel"
   ]
  },
  {
   "cell_type": "code",
   "execution_count": 20,
   "metadata": {},
   "outputs": [],
   "source": [
    "def pos_at_step(a,file_pos_tot):\n",
    "    cont= a * birds\n",
    "    i=0\n",
    "    data_pos = np.zeros((birds, 3))\n",
    "    fine=cont+birds\n",
    "\n",
    "    while cont < (fine):\n",
    "       data_pos[i]=file_pos_tot[cont]\n",
    "       cont+=1\n",
    "       i+=1\n",
    "    return data_pos"
   ]
  },
  {
   "cell_type": "markdown",
   "metadata": {},
   "source": [
    "Funzione di correlazione:\n",
    "![Correlazione](Correlazione.jpg)"
   ]
  },
  {
   "cell_type": "code",
   "execution_count": 26,
   "metadata": {},
   "outputs": [],
   "source": [
    "#Funzione delta correlazione\n",
    "def delta(sigma):\n",
    "    if sigma == 0:\n",
    "        return 1\n",
    "    else:\n",
    "        return 0\n",
    "    \n",
    "#Funzione correlazione C(r) per uno step\n",
    "def correlation(r):\n",
    "    velox=U\n",
    "    posix=pos_at_step(view_step,file_pos_tot)\n",
    "    som=0\n",
    "    somDelta=0\n",
    "    for i in range (birds):\n",
    "        for j in range (birds):\n",
    "            modvi=np.linalg.norm(velox[i])\n",
    "            modvj=np.linalg.norm(velox[j])\n",
    "            si=velox[i]/modvi\n",
    "            sj=velox[j]/modvj\n",
    "            r1=np.round(np.linalg.norm(posix[i]-posix[j]),0)\n",
    "            delt=delta(r-r1)\n",
    "            somj=np.dot(si,sj)*delt\n",
    "            som = som + somj\n",
    "            somDelta = somDelta + delt\n",
    "    if somDelta == 0:\n",
    "        return False,0\n",
    "    else:\n",
    "        return True,(som / somDelta)"
   ]
  },
  {
   "cell_type": "markdown",
   "metadata": {},
   "source": [
    "Dai file di testo, prodotti dal programmi precedenti, leggo le velocità e le posizioni degli uccelli per ogni step e solo per uno step fissato in precedenza.\n",
    "Si ricordi di modificare sempre il nome del file di cui si sta leggendo, il numero degli uccelli, numero di steps usati e step di riferimento, per poter eseguire i calcoli.\n",
    "Nei file di testo ogni n righe (n=birds) rappresenta un singolo step."
   ]
  },
  {
   "cell_type": "code",
   "execution_count": 22,
   "metadata": {},
   "outputs": [
    {
     "name": "stdout",
     "output_type": "stream",
     "text": [
      "(10000, 3)\n"
     ]
    }
   ],
   "source": [
    "#vel_file = open(f\"scatola vel3D birds={birds} steps={steps} b={b}.txt\")\n",
    "#pos_file = open(f\"scatola pos3D birds={birds} steps={steps} b={b}.txt\")\n",
    "\n",
    "vel_file = open(\"Vel100b05.txt\")\n",
    "pos_file = open(\"Pos100b05.txt\")\n",
    "\n",
    "#vel_file = open(f\"Vbird100_s100_H1_B05_C_convergente\")\n",
    "#pos_file = open(f\"Pbird100_s100_H1_B05_C_convergente\")\n",
    "\n",
    "\n",
    "read_vel = csv.reader(vel_file, delimiter=\" \")\n",
    "read_pos = csv.reader(pos_file, delimiter=\" \")\n",
    "file_vel = []\n",
    "file_pos = []\n",
    "\n",
    "for row in read_vel:\n",
    "    file_vel.append(row)\n",
    "\n",
    "for row1 in read_pos:\n",
    "    file_pos.append(row1)\n",
    "    \n",
    "#Trasformo ciò che ho letto nei file in matrici numpy\n",
    "file_vel_tot = np.array(file_vel,dtype=float)\n",
    "file_pos_tot = np.array(file_pos,dtype=float)\n",
    "\n",
    "#Eseguo questo calcolo per prendere solo gli uccelli ad un certo step fissato\n",
    "\n",
    "print(file_vel_tot.shape)"
   ]
  },
  {
   "cell_type": "markdown",
   "metadata": {},
   "source": [
    "Calcolo delle fluttuazioni U:\n",
    "![Fluttuazioni](Fluttuazioni.png)"
   ]
  },
  {
   "cell_type": "code",
   "execution_count": 24,
   "metadata": {
    "scrolled": true
   },
   "outputs": [
    {
     "name": "stdout",
     "output_type": "stream",
     "text": [
      "[2.58339017 2.53337565 2.57984791]\n"
     ]
    }
   ],
   "source": [
    "velstep=vel_at_step(view_step,file_vel_tot)\n",
    "U=np.zeros((birds,ndim))\n",
    "velMedia=np.mean(velstep,axis=0)\n",
    "\n",
    "for j in range (birds):\n",
    "    U[j] = velstep[j] - velMedia\n",
    "        \n",
    "#controllo che u sia uguale a zero\n",
    "controll= np.round(np.sum(U,axis=0),1)\n",
    "\n",
    "print(velMedia)"
   ]
  },
  {
   "cell_type": "markdown",
   "metadata": {},
   "source": [
    "Calcolo valore correlazione per ogni r dell'array r2 e stampo il grafico relativo.\n"
   ]
  },
  {
   "cell_type": "code",
   "execution_count": 27,
   "metadata": {},
   "outputs": [
    {
     "name": "stdout",
     "output_type": "stream",
     "text": [
      "0\n",
      "1\n",
      "2\n",
      "3\n",
      "4\n",
      "5\n",
      "6\n",
      "7\n",
      "8\n",
      "9\n",
      "10\n",
      "11\n",
      "12\n",
      "13\n",
      "14\n",
      "15\n",
      "16\n",
      "17\n",
      "18\n",
      "19\n",
      "20\n",
      "21\n",
      "22\n",
      "23\n",
      "24\n",
      "25\n",
      "26\n",
      "27\n",
      "28\n",
      "29\n",
      "30\n",
      "31\n",
      "32\n",
      "33\n",
      "34\n"
     ]
    },
    {
     "data": {
      "image/png": "[encoded data removed]",
      "text/plain": [
       "<Figure size 432x288 with 1 Axes>"
      ]
     },
     "metadata": {
      "needs_background": "light"
     },
     "output_type": "display_data"
    }
   ],
   "source": [
    "massimo = 35\n",
    "normalization = correlation(0)\n",
    "\n",
    "r2 = np.arange(0,massimo,1)\n",
    "cor = []\n",
    "r = []\n",
    "for i in range (r2.size):\n",
    "    result = correlation(r2[i])\n",
    "    if result[0] == True:\n",
    "        cor.append(np.round(result[1],2) / normalization[1])\n",
    "        r.append(r2[i])\n",
    "    print(i)\n",
    "cor=np.array(cor)\n",
    "r=np.array(r)\n",
    "\n",
    "plt.plot(r, cor, marker = \"o\", color = 'red')\n",
    "plt.title(\"Grafico correlazione\")\n",
    "plt.xlabel(\"R\") \n",
    "plt.ylabel(\"Correlation(R)\")\n",
    "plt.show()"
   ]
  },
  {
   "cell_type": "markdown",
   "metadata": {},
   "source": [
    "Salvo i valori di r e correlation(r) in un file di testo"
   ]
  },
  {
   "cell_type": "code",
   "execution_count": 56,
   "metadata": {},
   "outputs": [],
   "source": [
    "file_cor = open(\"Correlazione.txt\", \"a+\")\n",
    "for i in range (cor.size):\n",
    "    file_cor.write(str(r[i]) + \" \" + str(cor[i]) + \"\\n\")\n",
    "file_cor.close()      "
   ]
  },
  {
   "cell_type": "markdown",
   "metadata": {},
   "source": [
    "Rappresentazione volume ad un certo step t"
   ]
  },
  {
   "cell_type": "code",
   "execution_count": 28,
   "metadata": {
    "scrolled": true
   },
   "outputs": [
    {
     "data": {
      "image/png": "[encoded data removed]",
      "text/plain": [
       "<Figure size 432x288 with 1 Axes>"
      ]
     },
     "metadata": {
      "needs_background": "light"
     },
     "output_type": "display_data"
    }
   ],
   "source": [
    "pts=pos_at_step(view_step,file_pos_tot)\n",
    "hull = ConvexHull(pts)\n",
    "\n",
    "fig = plt.figure()\n",
    "ax = fig.add_subplot(111, projection=\"3d\")\n",
    "\n",
    "# Plot defining corner points\n",
    "ax.plot(pts.T[0], pts.T[1], pts.T[2], \"ko\")\n",
    "\n",
    "# 12 = 2 * 6 faces are the simplices (2 simplices per square face)\n",
    "for s in hull.simplices:\n",
    "    s = np.append(s, s[0])  # Here we cycle back to the first coordinate\n",
    "    ax.plot(pts[s, 0], pts[s, 1], pts[s, 2], \"r-\")\n",
    "\n",
    "# Make axis label\n",
    "for i in [\"x\", \"y\", \"z\"]:\n",
    "    eval(\"ax.set_{:s}label('{:s}')\".format(i, i))\n",
    "\n",
    "plt.show()"
   ]
  },
  {
   "cell_type": "markdown",
   "metadata": {},
   "source": [
    "Calcolo polarizzazione:\n",
    "![Polarizzazione](Polarizzazione.png)"
   ]
  },
  {
   "cell_type": "code",
   "execution_count": 45,
   "metadata": {},
   "outputs": [
    {
     "name": "stdout",
     "output_type": "stream",
     "text": [
      "0.9999999999999858\n"
     ]
    }
   ],
   "source": [
    "print(polarization_at_step(view_step,file_vel_tot))"
   ]
  },
  {
   "cell_type": "code",
   "execution_count": 30,
   "metadata": {},
   "outputs": [],
   "source": [
    "#Nomalizzo le velocità medie\n",
    "VelNorm=velMedia/np.linalg.norm(velMedia)"
   ]
  },
  {
   "cell_type": "markdown",
   "metadata": {},
   "source": [
    "Calcolo l'anisotropia per ogni step:"
   ]
  },
  {
   "cell_type": "code",
   "execution_count": 33,
   "metadata": {},
   "outputs": [
    {
     "name": "stdout",
     "output_type": "stream",
     "text": [
      "1\n"
     ]
    },
    {
     "ename": "KeyboardInterrupt",
     "evalue": "",
     "output_type": "error",
     "traceback": [
      "\u001b[1;31m---------------------------------------------------------------------------\u001b[0m",
      "\u001b[1;31mKeyboardInterrupt\u001b[0m                         Traceback (most recent call last)",
      "\u001b[1;32m<ipython-input-33-e34705d9e688>\u001b[0m in \u001b[0;36m<module>\u001b[1;34m\u001b[0m\n\u001b[0;32m      3\u001b[0m \u001b[0manisotropy\u001b[0m\u001b[1;33m=\u001b[0m\u001b[0mnp\u001b[0m\u001b[1;33m.\u001b[0m\u001b[0mzeros\u001b[0m\u001b[1;33m(\u001b[0m\u001b[1;33m(\u001b[0m\u001b[0msteps\u001b[0m\u001b[1;33m,\u001b[0m\u001b[0mbirds\u001b[0m\u001b[1;33m)\u001b[0m\u001b[1;33m)\u001b[0m\u001b[1;33m\u001b[0m\u001b[1;33m\u001b[0m\u001b[0m\n\u001b[0;32m      4\u001b[0m \u001b[1;32mfor\u001b[0m \u001b[0mi\u001b[0m \u001b[1;32min\u001b[0m \u001b[0mrange\u001b[0m \u001b[1;33m(\u001b[0m\u001b[0msteps\u001b[0m\u001b[1;33m*\u001b[0m\u001b[0mbirds\u001b[0m\u001b[1;33m)\u001b[0m\u001b[1;33m:\u001b[0m\u001b[1;33m\u001b[0m\u001b[1;33m\u001b[0m\u001b[0m\n\u001b[1;32m----> 5\u001b[1;33m     \u001b[0manisotropy\u001b[0m\u001b[1;33m[\u001b[0m\u001b[0mstep\u001b[0m\u001b[1;33m]\u001b[0m\u001b[1;33m[\u001b[0m\u001b[0mucc\u001b[0m\u001b[1;33m]\u001b[0m\u001b[1;33m=\u001b[0m\u001b[0manisotropia\u001b[0m\u001b[1;33m(\u001b[0m\u001b[0mvel_at_step\u001b[0m\u001b[1;33m(\u001b[0m\u001b[0mstep\u001b[0m\u001b[1;33m,\u001b[0m\u001b[0mfile_vel_tot\u001b[0m\u001b[1;33m)\u001b[0m\u001b[1;33m,\u001b[0m\u001b[0mpos_at_step\u001b[0m\u001b[1;33m(\u001b[0m\u001b[0mstep\u001b[0m\u001b[1;33m,\u001b[0m\u001b[0mfile_pos_tot\u001b[0m\u001b[1;33m)\u001b[0m\u001b[1;33m)\u001b[0m\u001b[1;33m\u001b[0m\u001b[1;33m\u001b[0m\u001b[0m\n\u001b[0m\u001b[0;32m      6\u001b[0m     \u001b[0mucc\u001b[0m\u001b[1;33m+=\u001b[0m\u001b[1;36m1\u001b[0m\u001b[1;33m\u001b[0m\u001b[1;33m\u001b[0m\u001b[0m\n\u001b[0;32m      7\u001b[0m     \u001b[1;32mif\u001b[0m \u001b[0mucc\u001b[0m\u001b[1;33m==\u001b[0m\u001b[0mbirds\u001b[0m\u001b[1;33m:\u001b[0m\u001b[1;33m\u001b[0m\u001b[1;33m\u001b[0m\u001b[0m\n",
      "\u001b[1;32m<ipython-input-3-de1675407d79>\u001b[0m in \u001b[0;36manisotropia\u001b[1;34m(vel, pos)\u001b[0m\n\u001b[0;32m      7\u001b[0m         \u001b[1;32mfor\u001b[0m \u001b[0mj\u001b[0m \u001b[1;32min\u001b[0m \u001b[0mrange\u001b[0m\u001b[1;33m(\u001b[0m\u001b[0mbirds\u001b[0m\u001b[1;33m)\u001b[0m\u001b[1;33m:\u001b[0m\u001b[1;33m\u001b[0m\u001b[1;33m\u001b[0m\u001b[0m\n\u001b[0;32m      8\u001b[0m             \u001b[1;32mif\u001b[0m \u001b[0mi\u001b[0m \u001b[1;33m!=\u001b[0m \u001b[0mj\u001b[0m\u001b[1;33m:\u001b[0m\u001b[1;33m\u001b[0m\u001b[1;33m\u001b[0m\u001b[0m\n\u001b[1;32m----> 9\u001b[1;33m                 \u001b[0mval\u001b[0m\u001b[1;33m=\u001b[0m\u001b[0mnp\u001b[0m\u001b[1;33m.\u001b[0m\u001b[0mlinalg\u001b[0m\u001b[1;33m.\u001b[0m\u001b[0mnorm\u001b[0m\u001b[1;33m(\u001b[0m\u001b[0mposition\u001b[0m\u001b[1;33m[\u001b[0m\u001b[0mi\u001b[0m\u001b[1;33m]\u001b[0m\u001b[1;33m-\u001b[0m\u001b[0mposition\u001b[0m\u001b[1;33m[\u001b[0m\u001b[0mj\u001b[0m\u001b[1;33m]\u001b[0m\u001b[1;33m)\u001b[0m\u001b[1;33m\u001b[0m\u001b[1;33m\u001b[0m\u001b[0m\n\u001b[0m\u001b[0;32m     10\u001b[0m                 \u001b[1;32mif\u001b[0m \u001b[0mval\u001b[0m \u001b[1;33m<\u001b[0m \u001b[0mmini\u001b[0m\u001b[1;33m:\u001b[0m\u001b[1;33m\u001b[0m\u001b[1;33m\u001b[0m\u001b[0m\n\u001b[0;32m     11\u001b[0m                     \u001b[0mj1\u001b[0m\u001b[1;33m=\u001b[0m\u001b[0mj\u001b[0m\u001b[1;33m\u001b[0m\u001b[1;33m\u001b[0m\u001b[0m\n",
      "\u001b[1;32m<__array_function__ internals>\u001b[0m in \u001b[0;36mnorm\u001b[1;34m(*args, **kwargs)\u001b[0m\n",
      "\u001b[1;32m~\\anaconda3\\lib\\site-packages\\numpy\\linalg\\linalg.py\u001b[0m in \u001b[0;36mnorm\u001b[1;34m(x, ord, axis, keepdims)\u001b[0m\n\u001b[0;32m   2528\u001b[0m                 \u001b[0msqnorm\u001b[0m \u001b[1;33m=\u001b[0m \u001b[0mdot\u001b[0m\u001b[1;33m(\u001b[0m\u001b[0mx\u001b[0m\u001b[1;33m.\u001b[0m\u001b[0mreal\u001b[0m\u001b[1;33m,\u001b[0m \u001b[0mx\u001b[0m\u001b[1;33m.\u001b[0m\u001b[0mreal\u001b[0m\u001b[1;33m)\u001b[0m \u001b[1;33m+\u001b[0m \u001b[0mdot\u001b[0m\u001b[1;33m(\u001b[0m\u001b[0mx\u001b[0m\u001b[1;33m.\u001b[0m\u001b[0mimag\u001b[0m\u001b[1;33m,\u001b[0m \u001b[0mx\u001b[0m\u001b[1;33m.\u001b[0m\u001b[0mimag\u001b[0m\u001b[1;33m)\u001b[0m\u001b[1;33m\u001b[0m\u001b[1;33m\u001b[0m\u001b[0m\n\u001b[0;32m   2529\u001b[0m             \u001b[1;32melse\u001b[0m\u001b[1;33m:\u001b[0m\u001b[1;33m\u001b[0m\u001b[1;33m\u001b[0m\u001b[0m\n\u001b[1;32m-> 2530\u001b[1;33m                 \u001b[0msqnorm\u001b[0m \u001b[1;33m=\u001b[0m \u001b[0mdot\u001b[0m\u001b[1;33m(\u001b[0m\u001b[0mx\u001b[0m\u001b[1;33m,\u001b[0m \u001b[0mx\u001b[0m\u001b[1;33m)\u001b[0m\u001b[1;33m\u001b[0m\u001b[1;33m\u001b[0m\u001b[0m\n\u001b[0m\u001b[0;32m   2531\u001b[0m             \u001b[0mret\u001b[0m \u001b[1;33m=\u001b[0m \u001b[0msqrt\u001b[0m\u001b[1;33m(\u001b[0m\u001b[0msqnorm\u001b[0m\u001b[1;33m)\u001b[0m\u001b[1;33m\u001b[0m\u001b[1;33m\u001b[0m\u001b[0m\n\u001b[0;32m   2532\u001b[0m             \u001b[1;32mif\u001b[0m \u001b[0mkeepdims\u001b[0m\u001b[1;33m:\u001b[0m\u001b[1;33m\u001b[0m\u001b[1;33m\u001b[0m\u001b[0m\n",
      "\u001b[1;32m<__array_function__ internals>\u001b[0m in \u001b[0;36mdot\u001b[1;34m(*args, **kwargs)\u001b[0m\n",
      "\u001b[1;31mKeyboardInterrupt\u001b[0m: "
     ]
    }
   ],
   "source": [
    "step=0\n",
    "ucc=0\n",
    "anisotropy=np.zeros((steps,birds))\n",
    "for i in range (steps*birds):\n",
    "    anisotropy[step][ucc]=anisotropia(vel_at_step(step,file_vel_tot),pos_at_step(step,file_pos_tot))\n",
    "    ucc+=1\n",
    "    if ucc==birds:\n",
    "        ucc=0\n",
    "        step+=1\n",
    "        print(step)"
   ]
  },
  {
   "cell_type": "markdown",
   "metadata": {},
   "source": [
    "Calcolo l'anisotropia per ogni step:"
   ]
  },
  {
   "cell_type": "code",
   "execution_count": 19,
   "metadata": {},
   "outputs": [],
   "source": [
    "step=0\n",
    "ucc=0\n",
    "anisotropy=np.zeros((steps,birds))\n",
    "for i in range (steps*birds):\n",
    "    anisotropy[step][ucc]=anisotropia(vel_at_step(step),pos_at_step(step))\n",
    "    ucc+=1\n",
    "    if ucc==birds:\n",
    "        ucc=0\n",
    "        step+=1"
   ]
  },
  {
   "cell_type": "markdown",
   "metadata": {},
   "source": [
    "Salvo risultati anisotropia in un file di testo"
   ]
  },
  {
   "cell_type": "code",
   "execution_count": 27,
   "metadata": {},
   "outputs": [],
   "source": [
    "file_ani = open(\"Anisotropia.txt\", \"a+\")\n",
    "for i in range (steps):\n",
    "    for j in range (birds):\n",
    "        file_ani.write(str(anisotropy[i][j]) + \"\\n\")\n",
    "file_ani.close()      "
   ]
  },
  {
   "cell_type": "code",
   "execution_count": 26,
   "metadata": {},
   "outputs": [
    {
     "data": {
      "image/png": "[encoded data removed]",
      "text/plain": [
       "<Figure size 432x288 with 1 Axes>"
      ]
     },
     "metadata": {
      "needs_background": "light"
     },
     "output_type": "display_data"
    }
   ],
   "source": [
    "#Grafico anisotropia\n",
    "tempo=[]\n",
    "for j in range (anisotropy.shape[0]):\n",
    "    tempo.append(j)\n",
    "tempo=np.array(tempo)\n",
    "\n",
    "plt.plot(tempo, anisotropy, marker = \"o\", color = 'red',linewidth=1, markersize=0.11)\n",
    "plt.title(\"Grafico Anisotropia - Tempo\")\n",
    "plt.xlabel(\"Tempo\") \n",
    "plt.ylabel(\"Anisotropia\")\n",
    "\n",
    "plt.show()"
   ]
  },
  {
   "cell_type": "markdown",
   "metadata": {},
   "source": [
    "Calcolo modulo velocità media per ogni uccello ad ogni step"
   ]
  },
  {
   "cell_type": "code",
   "execution_count": 34,
   "metadata": {},
   "outputs": [],
   "source": [
    "velMod_tot=np.linalg.norm(file_vel_tot, axis=1)\n",
    "velMod=np.zeros((steps,birds))\n",
    "t=0\n",
    "ucc=0\n",
    "for i in range (velMod_tot.size):\n",
    "    velMod[t][ucc]=velMod_tot[i]\n",
    "    ucc+=1\n",
    "    if ucc==birds:\n",
    "        ucc=0\n",
    "        t+=1    "
   ]
  },
  {
   "cell_type": "markdown",
   "metadata": {},
   "source": [
    "Stampo grafico del modulo della velocità per ogni uccello - ogni step"
   ]
  },
  {
   "cell_type": "code",
   "execution_count": 35,
   "metadata": {
    "scrolled": true
   },
   "outputs": [
    {
     "data": {
      "image/png": "[encoded data removed]",
      "text/plain": [
       "<Figure size 432x288 with 1 Axes>"
      ]
     },
     "metadata": {
      "needs_background": "light"
     },
     "output_type": "display_data"
    }
   ],
   "source": [
    "max_time=100\n",
    "view_birds=100\n",
    "\n",
    "tempo=[]\n",
    "for j in range (velMod.shape[0]):\n",
    "    tempo.append(j)\n",
    "tempo=np.array(tempo)\n",
    "\n",
    "plt.plot(tempo[0:max_time], velMod[:max_time,:view_birds], marker = \"o\", color = 'red',linewidth=1, markersize=0.11)\n",
    "plt.title(\"Grafico Mod_Vel - Tempo\")\n",
    "plt.xlabel(\"Tempo\") \n",
    "plt.ylabel(\"Modulo Velocità\")\n",
    "\n",
    "plt.show()"
   ]
  },
  {
   "cell_type": "code",
   "execution_count": 36,
   "metadata": {
    "scrolled": true
   },
   "outputs": [
    {
     "data": {
      "image/png": "[encoded data removed]",
      "text/plain": [
       "<Figure size 432x288 with 1 Axes>"
      ]
     },
     "metadata": {
      "needs_background": "light"
     },
     "output_type": "display_data"
    }
   ],
   "source": [
    "ModVelUcc=np.linalg.norm(vel_at_step(view_step,file_vel_tot),axis=1)\n",
    "minMod=min(ModVelUcc.reshape(-1,1))\n",
    "maxMod=max(ModVelUcc.reshape(-1,1))\n",
    "\"\"\"\n",
    "rang=(maxMod-minMod)/4\n",
    "Bins=np.zeros(4)\n",
    "rangValue=np.array((rang,rang*2,rang*3,rang*4))\n",
    "for i in range (birds):\n",
    "    velb=ModVelUcc[i]\n",
    "    if velb < rang:\n",
    "        Bins[0]+=1\n",
    "    elif velb < (rang*2):\n",
    "        Bins[1]+=1\n",
    "    elif velb < (rang*3):\n",
    "        Bins[2]+=1\n",
    "    else:\n",
    "        Bins[3]+=1\n",
    "\"\"\"\n",
    "\n",
    "plt.hist(ModVelUcc, bins=50)\n",
    "plt.xlabel(\"Modulo Velocità\")\n",
    "plt.ylabel(\"Conteggio\")\n",
    "plt.title(\"Histogram\")\n",
    "plt.show()"
   ]
  },
  {
   "cell_type": "code",
   "execution_count": 41,
   "metadata": {},
   "outputs": [
    {
     "data": {
      "image/png": "[encoded data removed]",
      "text/plain": [
       "<Figure size 432x288 with 1 Axes>"
      ]
     },
     "metadata": {
      "needs_background": "light"
     },
     "output_type": "display_data"
    }
   ],
   "source": [
    "max_time=2000\n",
    "\n",
    "tempo=[]\n",
    "for j in range (steps):\n",
    "    tempo.append(j)\n",
    "tempo=np.array(tempo)\n",
    "\n",
    "vel_media_mod_tot = np.zeros((steps, ndim))\n",
    "\n",
    "for j in range(steps):\n",
    "    vel_media_mod_tot[j] = np.linalg.norm(vel_media_at_step(j,file_vel_tot))\n",
    "    \n",
    "\n",
    "plt.plot(tempo[0:max_time], vel_media_mod_tot[:max_time, :], marker = \"o\", color = 'red',linewidth=1, markersize=0.11)\n",
    "plt.title(\"Grafico Mod_Vel - Tempo\")\n",
    "plt.xlabel(\"Tempo\") \n",
    "plt.ylabel(\"Modulo Velocità\")\n",
    "\n",
    "plt.show()"
   ]
  },
  {
   "cell_type": "markdown",
   "metadata": {},
   "source": [
    "Grafico polarizzazione per tutti gli steps"
   ]
  },
  {
   "cell_type": "code",
   "execution_count": 42,
   "metadata": {},
   "outputs": [
    {
     "name": "stdout",
     "output_type": "stream",
     "text": [
      "0\n",
      "1\n",
      "2\n",
      "3\n",
      "4\n",
      "5\n",
      "6\n",
      "7\n",
      "8\n",
      "9\n",
      "10\n",
      "11\n",
      "12\n",
      "13\n",
      "14\n",
      "15\n",
      "16\n",
      "17\n",
      "18\n",
      "19\n",
      "20\n",
      "21\n",
      "22\n",
      "23\n",
      "24\n",
      "25\n",
      "26\n",
      "27\n",
      "28\n",
      "29\n",
      "30\n",
      "31\n",
      "32\n",
      "33\n",
      "34\n",
      "35\n",
      "36\n",
      "37\n",
      "38\n",
      "39\n",
      "40\n",
      "41\n",
      "42\n",
      "43\n",
      "44\n",
      "45\n",
      "46\n",
      "47\n",
      "48\n",
      "49\n",
      "50\n",
      "51\n",
      "52\n",
      "53\n",
      "54\n",
      "55\n",
      "56\n",
      "57\n",
      "58\n",
      "59\n",
      "60\n",
      "61\n",
      "62\n",
      "63\n",
      "64\n",
      "65\n",
      "66\n",
      "67\n",
      "68\n",
      "69\n",
      "70\n",
      "71\n",
      "72\n",
      "73\n",
      "74\n",
      "75\n",
      "76\n",
      "77\n",
      "78\n",
      "79\n",
      "80\n",
      "81\n",
      "82\n",
      "83\n",
      "84\n",
      "85\n",
      "86\n",
      "87\n",
      "88\n",
      "89\n",
      "90\n",
      "91\n",
      "92\n",
      "93\n",
      "94\n",
      "95\n",
      "96\n",
      "97\n",
      "98\n",
      "99\n"
     ]
    },
    {
     "data": {
      "image/png": "[encoded data removed]",
      "text/plain": [
       "<Figure size 432x288 with 1 Axes>"
      ]
     },
     "metadata": {
      "needs_background": "light"
     },
     "output_type": "display_data"
    }
   ],
   "source": [
    "max_time=steps\n",
    "\n",
    "tempo=[]\n",
    "for j in range (steps):\n",
    "    tempo.append(j)\n",
    "tempo=np.array(tempo)\n",
    "\n",
    "pol_tot = np.zeros((steps, 1))\n",
    "\n",
    "for j in range (max_time):\n",
    "    pol_tot[j] = polarization_at_step(j,file_vel_tot)\n",
    "    print(j)\n",
    "    \n",
    "\n",
    "plt.plot(tempo[0:max_time], pol_tot[:max_time, :], marker = \"o\", color = 'red',linewidth=1, markersize=0.11)\n",
    "plt.title(\"Grafico Polarizzazione - Tempo\")\n",
    "plt.xlabel(\"Tempo\") \n",
    "plt.ylabel(\"Polarizzazione\")\n",
    "\n",
    "plt.show()"
   ]
  },
  {
   "cell_type": "markdown",
   "metadata": {},
   "source": [
    "Calcolo modulo differenza massimo tra le posizione di tutti gli uccelli ad un dato step"
   ]
  },
  {
   "cell_type": "code",
   "execution_count": 61,
   "metadata": {},
   "outputs": [
    {
     "name": "stdout",
     "output_type": "stream",
     "text": [
      "154.78567538520957\n"
     ]
    }
   ],
   "source": [
    "pos_step=pos_at_step(view_step,file_pos_tot)\n",
    "max_pos = 0\n",
    "\n",
    "for i in range (birds):\n",
    "    for j in range (birds):\n",
    "        if i != j:\n",
    "            diffij=np.linalg.norm(pos_step[i]-pos_step[j])\n",
    "            if diffij > max_pos:\n",
    "                max_pos=diffij\n",
    "                \n",
    "print(max_pos)"
   ]
  },
  {
   "cell_type": "markdown",
   "metadata": {},
   "source": [
    "Calcolo formule come da figura:\n",
    "![Formule](formule.jpg)"
   ]
  },
  {
   "cell_type": "code",
   "execution_count": 64,
   "metadata": {},
   "outputs": [
    {
     "name": "stdout",
     "output_type": "stream",
     "text": [
      "27904203.70134564 7.944181877311392e-09\n"
     ]
    }
   ],
   "source": [
    "pox_step=pos_at_step(view_step,file_pos_tot)\n",
    "vex_step=vel_at_step(view_step,file_vel_tot)\n",
    "som_vex=0\n",
    "som_pox=0\n",
    "\n",
    "for i in range (birds):\n",
    "    for j in range (birds):\n",
    "        if i != j:\n",
    "            dif_vex=pow(np.linalg.norm(vex_step[i]-vex_step[j]),2)\n",
    "            dif_pos=pow(np.linalg.norm(pos_step[i]-pos_step[j]),2)\n",
    "            som_vex+=dif_vex\n",
    "            som_pox+=dif_pos\n",
    "            \n",
    "Tetax=som_pox / 2\n",
    "Deltav=som_vex / 2\n",
    "print(Tetax,Deltav)\n"
   ]
  },
  {
   "cell_type": "code",
   "execution_count": null,
   "metadata": {},
   "outputs": [],
   "source": []
  }
 ],
 "metadata": {
  "kernelspec": {
   "display_name": "Python 3",
   "language": "python",
   "name": "python3"
  },
  "language_info": {
   "codemirror_mode": {
    "name": "ipython",
    "version": 3
   },
   "file_extension": ".py",
   "mimetype": "text/x-python",
   "name": "python",
   "nbconvert_exporter": "python",
   "pygments_lexer": "ipython3",
   "version": "3.8.5"
  }
 },
 "nbformat": 4,
 "nbformat_minor": 4
}
